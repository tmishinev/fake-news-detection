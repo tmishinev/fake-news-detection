{
 "cells": [
  {
   "cell_type": "code",
   "execution_count": 1,
   "metadata": {
    "_cell_guid": "b1076dfc-b9ad-4769-8c92-a6c4dae69d19",
    "_kg_hide-input": true,
    "_uuid": "8f2839f25d086af736a60e9eeb907d3b93b6e0e5",
    "execution": {
     "iopub.execute_input": "2022-08-24T13:10:35.457765Z",
     "iopub.status.busy": "2022-08-24T13:10:35.457147Z",
     "iopub.status.idle": "2022-08-24T13:10:35.47616Z",
     "shell.execute_reply": "2022-08-24T13:10:35.474955Z",
     "shell.execute_reply.started": "2022-08-24T13:10:35.457728Z"
    }
   },
   "outputs": [],
   "source": [
    "# This Python 3 environment comes with many helpful analytics libraries installed\n",
    "# It is defined by the kaggle/python Docker image: https://github.com/kaggle/docker-python\n",
    "# For example, here's several helpful packages to load\n",
    "\n",
    "import numpy as np # linear algebra\n",
    "import pandas as pd # data processing, CSV file I/O (e.g. pd.read_csv)\n",
    "\n",
    "# Input data files are available in the read-only \"../input/\" directory\n",
    "# For example, running this (by clicking run or pressing Shift+Enter) will list all files under the input directory\n",
    "\n",
    "import os\n",
    "for dirname, _, filenames in os.walk('/kaggle/input'):\n",
    "    for filename in filenames:\n",
    "        print(os.path.join(dirname, filename))\n",
    "\n",
    "# You can write up to 20GB to the current directory (/kaggle/working/) that gets preserved as output when you create a version using \"Save & Run All\" \n",
    "# You can also write temporary files to /kaggle/temp/, but they won't be saved outside of the current session"
   ]
  },
  {
   "cell_type": "markdown",
   "metadata": {},
   "source": [
    "## Summary\n",
    "<font size = 3.5>(WELFake) is a dataset of 72,134 news articles with 35,028 real and 37,106 fake news. For this, authors merged four popular news datasets (i.e. Kaggle, McIntire, Reuters, BuzzFeed Political) to prevent over-fitting of classifiers and to provide more text data for better ML training. </font> <br><br>\n",
    "<font size = 3.5>\n",
    "Dataset contains four columns: Serial number (starting from 0); Title (about the text news heading); Text (about the news content); and Label (0 = fake and 1 = real).</font>"
   ]
  },
  {
   "cell_type": "markdown",
   "metadata": {},
   "source": [
    "[1. EDA](#eda) <br>\n",
    "\n",
    "[2. Define Model](#define)<br>\n",
    "\n",
    "[3. Train and Evaluate](#train_evaluate)<br>\n",
    "\n",
    "- [3.1 Train the Model](#train)<br>\n",
    "- [3.2 Evaluate the Model](#evaluate)<br>\n",
    "    \n",
    "[4. Conclusion](#conclusion)<br> \n",
    "    \n"
   ]
  },
  {
   "cell_type": "code",
   "execution_count": null,
   "metadata": {
    "_kg_hide-input": false,
    "execution": {
     "iopub.execute_input": "2022-08-26T11:46:16.705516Z",
     "iopub.status.busy": "2022-08-26T11:46:16.705024Z",
     "iopub.status.idle": "2022-08-26T11:46:16.717219Z",
     "shell.execute_reply": "2022-08-26T11:46:16.714568Z",
     "shell.execute_reply.started": "2022-08-26T11:46:16.705485Z"
    }
   },
   "outputs": [],
   "source": [
    "import pandas as pd\n",
    "import numpy as np\n",
    "import matplotlib.pyplot as plt\n",
    "import seaborn as sns\n",
    "import tensorflow as tf\n",
    "import keras\n",
    "import gc\n",
    "\n",
    "from keras.models import Model, Sequential\n",
    "from keras.layers import Input, Dense, Dropout, Embedding\n",
    "from sklearn.model_selection import train_test_split \n",
    "from keras.preprocessing.text import Tokenizer\n",
    "from keras.callbacks import EarlyStopping\n",
    "from tensorflow.keras.optimizers import Adam\n",
    "from sklearn.model_selection import train_test_split,StratifiedKFold\n",
    "from sklearn.metrics import confusion_matrix, classification_report, f1_score\n",
    "from tensorflow.python.client import device_lib\n",
    "from transformers import AutoTokenizer, TFBertModel\n",
    "\n",
    "SEED = 10"
   ]
  },
  {
   "cell_type": "code",
   "execution_count": 2,
   "metadata": {
    "_kg_hide-input": false,
    "execution": {
     "iopub.execute_input": "2022-08-26T09:58:27.344244Z",
     "iopub.status.busy": "2022-08-26T09:58:27.342656Z",
     "iopub.status.idle": "2022-08-26T09:58:35.443370Z",
     "shell.execute_reply": "2022-08-26T09:58:35.441992Z",
     "shell.execute_reply.started": "2022-08-26T09:58:27.344190Z"
    }
   },
   "outputs": [],
   "source": [
    "df = pd.read_csv('../input/fake-news-classification/WELFake_Dataset.csv')\n",
    "df.dropna(subset = ['text', 'title'], inplace = True)\n",
    "df['text'] = df['title'] + ' ' + df['text']\n",
    "\n",
    "X = df['text']\n",
    "y = df['label']"
   ]
  },
  {
   "cell_type": "markdown",
   "metadata": {},
   "source": [
    "<a id = 'eda'></a>\n",
    "## 1. EDA"
   ]
  },
  {
   "cell_type": "code",
   "execution_count": 3,
   "metadata": {
    "execution": {
     "iopub.execute_input": "2022-08-26T09:58:35.445682Z",
     "iopub.status.busy": "2022-08-26T09:58:35.445159Z",
     "iopub.status.idle": "2022-08-26T09:58:38.109036Z",
     "shell.execute_reply": "2022-08-26T09:58:38.107657Z",
     "shell.execute_reply.started": "2022-08-26T09:58:35.445640Z"
    }
   },
   "outputs": [],
   "source": [
    "df['num_words'] = df['text'].apply(lambda x: len(x.split()))"
   ]
  },
  {
   "cell_type": "code",
   "execution_count": 24,
   "metadata": {
    "execution": {
     "iopub.execute_input": "2022-08-26T11:45:03.425733Z",
     "iopub.status.busy": "2022-08-26T11:45:03.424751Z",
     "iopub.status.idle": "2022-08-26T11:45:03.674819Z",
     "shell.execute_reply": "2022-08-26T11:45:03.673426Z",
     "shell.execute_reply.started": "2022-08-26T11:45:03.425680Z"
    }
   },
   "outputs": [
    {
     "data": {
      "text/plain": [
       "Text(0.5, 1.0, 'Distribution of Fake - 0 /Real - 1 News')"
      ]
     },
     "execution_count": 24,
     "metadata": {},
     "output_type": "execute_result"
    },
    {
     "data": {
      "image/png": "[encoded data removed]",
      "text/plain": [
       "<Figure size 576x360 with 1 Axes>"
      ]
     },
     "metadata": {
      "needs_background": "light"
     },
     "output_type": "display_data"
    }
   ],
   "source": [
    "plt.figure(figsize = (8,5))\n",
    "sns.countplot(x = df['label'], palette = 'Set1', alpha = 0.8)\n",
    "plt.title('Distribution of Fake - 0 /Real - 1 News')"
   ]
  },
  {
   "cell_type": "code",
   "execution_count": 25,
   "metadata": {
    "execution": {
     "iopub.execute_input": "2022-08-26T11:45:03.678542Z",
     "iopub.status.busy": "2022-08-26T11:45:03.677743Z",
     "iopub.status.idle": "2022-08-26T11:45:04.351812Z",
     "shell.execute_reply": "2022-08-26T11:45:04.350408Z",
     "shell.execute_reply.started": "2022-08-26T11:45:03.678495Z"
    }
   },
   "outputs": [
    {
     "data": {
      "text/plain": [
       "Text(0.5, 1.0, 'Distribution of the News Words count')"
      ]
     },
     "execution_count": 25,
     "metadata": {},
     "output_type": "execute_result"
    },
    {
     "data": {
      "image/png": "[encoded data removed]",
      "text/plain": [
       "<Figure size 1008x360 with 1 Axes>"
      ]
     },
     "metadata": {
      "needs_background": "light"
     },
     "output_type": "display_data"
    }
   ],
   "source": [
    "plt.figure(figsize = (14,5))\n",
    "sns.histplot(df['num_words'], bins = range(1, 3000, 50), palette = 'Set1', alpha = 0.8)\n",
    "plt.title('Distribution of the News Words count')"
   ]
  },
  {
   "cell_type": "markdown",
   "metadata": {},
   "source": [
    "<a id = 'define'></a>\n",
    "## 2. Define Model"
   ]
  },
  {
   "cell_type": "code",
   "execution_count": 6,
   "metadata": {
    "execution": {
     "iopub.execute_input": "2022-08-26T09:58:38.838645Z",
     "iopub.status.busy": "2022-08-26T09:58:38.836929Z",
     "iopub.status.idle": "2022-08-26T09:58:38.851426Z",
     "shell.execute_reply": "2022-08-26T09:58:38.849949Z",
     "shell.execute_reply.started": "2022-08-26T09:58:38.838599Z"
    }
   },
   "outputs": [],
   "source": [
    "#define the LSTM model\n",
    "MAX_LEN = 100\n",
    "\n",
    "def get_model():\n",
    "    dropout_rate = 0.2\n",
    "\n",
    "    input_ids = Input(shape = (MAX_LEN,), dtype = tf.int32, name = 'input_ids')\n",
    "    input_mask = Input(shape = (MAX_LEN,), dtype = tf.int32, name = 'input_mask')\n",
    "\n",
    "    embeddings = bert([input_ids, input_mask])[1] #pooler output\n",
    "    print(embeddings)\n",
    "\n",
    "    out = Dropout(0.2)(embeddings)\n",
    "    \n",
    "    #64 units dense layer\n",
    "    out = Dense(64,activation = 'relu')(out)\n",
    "    out = Dropout(0.2)(out)\n",
    "\n",
    "    y = Dense(1,activation = 'sigmoid')(out)\n",
    "    \n",
    "    model = Model(inputs=[input_ids, input_mask], outputs=y)\n",
    "    model.layers[2].trainable = True\n",
    "    \n",
    "    #define optimizer\n",
    "    optimizer = Adam(learning_rate=1e-05, epsilon=1e-08,decay=0.01,clipnorm=1.0)\n",
    "    \n",
    "    #complile the model\n",
    "    model.compile(optimizer = optimizer, loss = 'binary_crossentropy', metrics = 'accuracy')\n",
    "    \n",
    "    return model\n",
    "\n",
    "#define tokenization function\n",
    "def get_tokens(X):\n",
    "    \n",
    "    X = tokenizer(\n",
    "                text = list(X),\n",
    "                add_special_tokens = True,\n",
    "                max_length = MAX_LEN,\n",
    "                truncation = True,\n",
    "                padding = True,\n",
    "                return_tensors = 'tf',\n",
    "                return_token_type_ids = False,\n",
    "                return_attention_mask = True,\n",
    "                verbose = True\n",
    "                )\n",
    "    \n",
    "    return X"
   ]
  },
  {
   "cell_type": "code",
   "execution_count": 7,
   "metadata": {
    "execution": {
     "iopub.execute_input": "2022-08-26T09:58:38.855954Z",
     "iopub.status.busy": "2022-08-26T09:58:38.854784Z",
     "iopub.status.idle": "2022-08-26T09:59:47.283538Z",
     "shell.execute_reply": "2022-08-26T09:59:47.281561Z",
     "shell.execute_reply.started": "2022-08-26T09:58:38.855671Z"
    }
   },
   "outputs": [
    {
     "data": {
      "application/vnd.jupyter.widget-view+json": {
       "model_id": "08f1da6974324fd89d6e297cdece3a83",
       "version_major": 2,
       "version_minor": 0
      },
      "text/plain": [
       "Downloading:   0%|          | 0.00/28.0 [00:00<?, ?B/s]"
      ]
     },
     "metadata": {},
     "output_type": "display_data"
    },
    {
     "data": {
      "application/vnd.jupyter.widget-view+json": {
       "model_id": "edd103c067864577ae2708aa78f95826",
       "version_major": 2,
       "version_minor": 0
      },
      "text/plain": [
       "Downloading:   0%|          | 0.00/570 [00:00<?, ?B/s]"
      ]
     },
     "metadata": {},
     "output_type": "display_data"
    },
    {
     "data": {
      "application/vnd.jupyter.widget-view+json": {
       "model_id": "f9497d4ce09840e39fc5b6cb5f65d78e",
       "version_major": 2,
       "version_minor": 0
      },
      "text/plain": [
       "Downloading:   0%|          | 0.00/226k [00:00<?, ?B/s]"
      ]
     },
     "metadata": {},
     "output_type": "display_data"
    },
    {
     "data": {
      "application/vnd.jupyter.widget-view+json": {
       "model_id": "ccf65bc43e484d058dfb002b9a9091de",
       "version_major": 2,
       "version_minor": 0
      },
      "text/plain": [
       "Downloading:   0%|          | 0.00/455k [00:00<?, ?B/s]"
      ]
     },
     "metadata": {},
     "output_type": "display_data"
    },
    {
     "data": {
      "application/vnd.jupyter.widget-view+json": {
       "model_id": "6d921ad783f6478994e6ae55e5e103e5",
       "version_major": 2,
       "version_minor": 0
      },
      "text/plain": [
       "Downloading:   0%|          | 0.00/511M [00:00<?, ?B/s]"
      ]
     },
     "metadata": {},
     "output_type": "display_data"
    },
    {
     "name": "stderr",
     "output_type": "stream",
     "text": [
      "Some layers from the model checkpoint at bert-base-uncased were not used when initializing TFBertModel: ['nsp___cls', 'mlm___cls']\n",
      "- This IS expected if you are initializing TFBertModel from the checkpoint of a model trained on another task or with another architecture (e.g. initializing a BertForSequenceClassification model from a BertForPreTraining model).\n",
      "- This IS NOT expected if you are initializing TFBertModel from the checkpoint of a model that you expect to be exactly identical (initializing a BertForSequenceClassification model from a BertForSequenceClassification model).\n",
      "All the layers of TFBertModel were initialized from the model checkpoint at bert-base-uncased.\n",
      "If your task is similar to the task the model of the checkpoint was trained on, you can already use TFBertModel for predictions without further training.\n"
     ]
    },
    {
     "name": "stdout",
     "output_type": "stream",
     "text": [
      "KerasTensor(type_spec=TensorSpec(shape=(None, 768), dtype=tf.float32, name=None), name='tf_bert_model/bert/pooler/dense/Tanh:0', description=\"created by layer 'tf_bert_model'\")\n"
     ]
    },
    {
     "data": {
      "image/png": "[encoded data removed]",
      "text/plain": [
       "<IPython.core.display.Image object>"
      ]
     },
     "execution_count": 7,
     "metadata": {},
     "output_type": "execute_result"
    }
   ],
   "source": [
    "#plot the model architecture\n",
    "tokenizer = AutoTokenizer.from_pretrained('bert-base-uncased')\n",
    "bert = TFBertModel.from_pretrained('bert-base-uncased')\n",
    "\n",
    "model = get_model()\n",
    "tf.keras.utils.plot_model(model)"
   ]
  },
  {
   "cell_type": "markdown",
   "metadata": {},
   "source": [
    "<a id = 'train_evaluate'></a>\n",
    "## 3. Train and evaluate"
   ]
  },
  {
   "cell_type": "code",
   "execution_count": 8,
   "metadata": {
    "execution": {
     "iopub.execute_input": "2022-08-26T09:59:47.288218Z",
     "iopub.status.busy": "2022-08-26T09:59:47.286313Z",
     "iopub.status.idle": "2022-08-26T09:59:47.430452Z",
     "shell.execute_reply": "2022-08-26T09:59:47.429018Z",
     "shell.execute_reply.started": "2022-08-26T09:59:47.288168Z"
    }
   },
   "outputs": [],
   "source": [
    "#split the train and test data\n",
    "X_train, X_test, y_train, y_test = train_test_split(X, y, stratify = y, test_size = 0.2, random_state = SEED)"
   ]
  },
  {
   "cell_type": "markdown",
   "metadata": {},
   "source": [
    "<a id = 'train_model'></a>\n",
    "## 3.1 Training the model"
   ]
  },
  {
   "cell_type": "markdown",
   "metadata": {},
   "source": [
    "<i><font size = 3.5>We will use a validation split of 20% during the training</font></i>"
   ]
  },
  {
   "cell_type": "code",
   "execution_count": 9,
   "metadata": {
    "execution": {
     "iopub.execute_input": "2022-08-26T09:59:47.433219Z",
     "iopub.status.busy": "2022-08-26T09:59:47.432734Z",
     "iopub.status.idle": "2022-08-26T11:36:24.577804Z",
     "shell.execute_reply": "2022-08-26T11:36:24.576554Z",
     "shell.execute_reply.started": "2022-08-26T09:59:47.433175Z"
    }
   },
   "outputs": [
    {
     "name": "stderr",
     "output_type": "stream",
     "text": [
      "2022-08-26 10:02:12.927758: I tensorflow/compiler/mlir/mlir_graph_optimization_pass.cc:185] None of the MLIR Optimization Passes are enabled (registered 2)\n"
     ]
    },
    {
     "name": "stdout",
     "output_type": "stream",
     "text": [
      "Epoch 1/10\n",
      "1431/1431 [==============================] - 659s 442ms/step - loss: 0.1103 - accuracy: 0.9596 - val_loss: 0.0590 - val_accuracy: 0.9791\n",
      "Epoch 2/10\n",
      "1431/1431 [==============================] - 627s 438ms/step - loss: 0.0538 - accuracy: 0.9816 - val_loss: 0.0567 - val_accuracy: 0.9804\n",
      "Epoch 3/10\n",
      "1431/1431 [==============================] - 626s 437ms/step - loss: 0.0474 - accuracy: 0.9835 - val_loss: 0.0523 - val_accuracy: 0.9820\n",
      "Epoch 4/10\n",
      "1431/1431 [==============================] - 625s 437ms/step - loss: 0.0435 - accuracy: 0.9851 - val_loss: 0.0530 - val_accuracy: 0.9817\n",
      "Epoch 5/10\n",
      "1431/1431 [==============================] - 624s 436ms/step - loss: 0.0411 - accuracy: 0.9862 - val_loss: 0.0563 - val_accuracy: 0.9806\n",
      "Epoch 6/10\n",
      "1431/1431 [==============================] - 623s 435ms/step - loss: 0.0386 - accuracy: 0.9870 - val_loss: 0.0501 - val_accuracy: 0.9833\n",
      "Epoch 7/10\n",
      "1431/1431 [==============================] - 621s 434ms/step - loss: 0.0369 - accuracy: 0.9873 - val_loss: 0.0525 - val_accuracy: 0.9824\n",
      "Epoch 8/10\n",
      "1431/1431 [==============================] - 622s 434ms/step - loss: 0.0357 - accuracy: 0.9881 - val_loss: 0.0521 - val_accuracy: 0.9824\n",
      "Epoch 9/10\n",
      "1431/1431 [==============================] - 621s 434ms/step - loss: 0.0355 - accuracy: 0.9877 - val_loss: 0.0522 - val_accuracy: 0.9821\n"
     ]
    }
   ],
   "source": [
    "X_train_seq = get_tokens(X_train)\n",
    "X_test_seq = get_tokens(X_test)\n",
    "\n",
    "history = model.fit(x = {'input_ids':X_train_seq['input_ids'],'input_mask':X_train_seq['attention_mask']}, \n",
    "                    y = y_train, epochs=10,\n",
    "                    validation_split = 0.2, batch_size = 32, callbacks=[EarlyStopping(monitor='val_accuracy',mode='max', patience=3, verbose=False,restore_best_weights=True)])"
   ]
  },
  {
   "cell_type": "code",
   "execution_count": 18,
   "metadata": {
    "execution": {
     "iopub.execute_input": "2022-08-26T11:39:13.051843Z",
     "iopub.status.busy": "2022-08-26T11:39:13.050541Z",
     "iopub.status.idle": "2022-08-26T11:39:13.742663Z",
     "shell.execute_reply": "2022-08-26T11:39:13.741423Z",
     "shell.execute_reply.started": "2022-08-26T11:39:13.051803Z"
    }
   },
   "outputs": [
    {
     "data": {
      "image/png": "[encoded data removed]",
      "text/plain": [
       "<Figure size 1152x432 with 2 Axes>"
      ]
     },
     "metadata": {
      "needs_background": "light"
     },
     "output_type": "display_data"
    }
   ],
   "source": [
    "#plot the train/validation loss and accuracy\n",
    "def plot_graphs(history, metric):\n",
    "    \n",
    "    plt.plot(history.history[metric])\n",
    "    plt.plot(history.history['val_'+metric], '')\n",
    "    plt.xlabel(\"Epochs\")\n",
    "    plt.ylabel(metric)\n",
    "    plt.legend([metric, 'val_'+metric])\n",
    "\n",
    "\n",
    "plt.figure(figsize=(16, 6))\n",
    "plt.subplot(1, 2, 1)\n",
    "plot_graphs(history, 'accuracy')\n",
    "plt.subplot(1, 2, 2)\n",
    "plot_graphs(history, 'loss')"
   ]
  },
  {
   "cell_type": "markdown",
   "metadata": {},
   "source": [
    "<a id = 'evaluate_model'></a>\n",
    "## 3.2 Evaluate the model"
   ]
  },
  {
   "cell_type": "markdown",
   "metadata": {
    "execution": {
     "iopub.execute_input": "2022-08-24T12:53:15.790214Z",
     "iopub.status.busy": "2022-08-24T12:53:15.789857Z",
     "iopub.status.idle": "2022-08-24T12:53:15.797269Z",
     "shell.execute_reply": "2022-08-24T12:53:15.795904Z",
     "shell.execute_reply.started": "2022-08-24T12:53:15.790182Z"
    }
   },
   "source": [
    "<i><font size = 3.5>For final evaluation we use the separate test set</font></i>"
   ]
  },
  {
   "cell_type": "code",
   "execution_count": 19,
   "metadata": {
    "execution": {
     "iopub.execute_input": "2022-08-26T11:39:13.751086Z",
     "iopub.status.busy": "2022-08-26T11:39:13.747913Z",
     "iopub.status.idle": "2022-08-26T11:40:17.095909Z",
     "shell.execute_reply": "2022-08-26T11:40:17.094519Z",
     "shell.execute_reply.started": "2022-08-26T11:39:13.751045Z"
    }
   },
   "outputs": [],
   "source": [
    "#predict the test set labels\n",
    "yhat =  np.where(model.predict({'input_ids':X_test_seq['input_ids'],'input_mask':X_test_seq['attention_mask']}) >=0.5,1,0)"
   ]
  },
  {
   "cell_type": "code",
   "execution_count": 20,
   "metadata": {
    "execution": {
     "iopub.execute_input": "2022-08-26T11:40:17.097971Z",
     "iopub.status.busy": "2022-08-26T11:40:17.097600Z",
     "iopub.status.idle": "2022-08-26T11:40:17.133973Z",
     "shell.execute_reply": "2022-08-26T11:40:17.132529Z",
     "shell.execute_reply.started": "2022-08-26T11:40:17.097933Z"
    }
   },
   "outputs": [
    {
     "name": "stdout",
     "output_type": "stream",
     "text": [
      "              precision    recall  f1-score   support\n",
      "\n",
      "           0       0.98      0.99      0.98      7006\n",
      "           1       0.99      0.98      0.98      7302\n",
      "\n",
      "    accuracy                           0.98     14308\n",
      "   macro avg       0.98      0.98      0.98     14308\n",
      "weighted avg       0.98      0.98      0.98     14308\n",
      "\n"
     ]
    }
   ],
   "source": [
    "## print classification report\n",
    "print(classification_report(y_test,yhat))"
   ]
  },
  {
   "cell_type": "code",
   "execution_count": 21,
   "metadata": {
    "execution": {
     "iopub.execute_input": "2022-08-26T11:40:17.137161Z",
     "iopub.status.busy": "2022-08-26T11:40:17.136867Z",
     "iopub.status.idle": "2022-08-26T11:40:17.421148Z",
     "shell.execute_reply": "2022-08-26T11:40:17.419879Z",
     "shell.execute_reply.started": "2022-08-26T11:40:17.137134Z"
    }
   },
   "outputs": [
    {
     "data": {
      "text/plain": [
       "Text(51.0, 0.5, 'Real Labels')"
      ]
     },
     "execution_count": 21,
     "metadata": {},
     "output_type": "execute_result"
    },
    {
     "data": {
      "image/png": "[encoded data removed]",
      "text/plain": [
       "<Figure size 576x432 with 2 Axes>"
      ]
     },
     "metadata": {
      "needs_background": "light"
     },
     "output_type": "display_data"
    }
   ],
   "source": [
    "#plot the confusion matrix\n",
    "plt.figure(figsize = (8,6))\n",
    "\n",
    "sns.heatmap(confusion_matrix(y_test,yhat), annot=True, \n",
    "            fmt='', cmap='Blues')\n",
    "\n",
    "plt.xlabel('Predicted Labels')\n",
    "plt.ylabel('Real Labels')"
   ]
  },
  {
   "cell_type": "code",
   "execution_count": 23,
   "metadata": {
    "execution": {
     "iopub.execute_input": "2022-08-26T11:44:47.602749Z",
     "iopub.status.busy": "2022-08-26T11:44:47.601301Z",
     "iopub.status.idle": "2022-08-26T11:45:03.420463Z",
     "shell.execute_reply": "2022-08-26T11:45:03.418160Z",
     "shell.execute_reply.started": "2022-08-26T11:44:47.602716Z"
    }
   },
   "outputs": [],
   "source": [
    "#save the model \n",
    "model.save('fake_news_bert.h5')\n",
    "model.save_weights(\"fake_news_bert_weights\")"
   ]
  },
  {
   "cell_type": "markdown",
   "metadata": {},
   "source": [
    "<a id = 'conclusion'></a>\n",
    "## Conclusion\n",
    "- <font size = 3.5>The model gives pretty good results with accuracy around 98.2%</font>\n",
    "- <font size = 3.5>To use more efficiently the data we can use StratifiedKFold and run 5 or 10 folds of training/validation</font>\n",
    "- <font size = 3.5>We can test the model performance with longer max sequence length (will increase the memmory usage and computation time)</font>\n",
    "- <font size = 3.5>Learning rate optimization will probably improve the results</font>"
   ]
  },
  {
   "cell_type": "code",
   "execution_count": null,
   "metadata": {},
   "outputs": [],
   "source": []
  }
 ],
 "metadata": {
  "kernelspec": {
   "display_name": "Python 3",
   "language": "python",
   "name": "python3"
  },
  "language_info": {
   "codemirror_mode": {
    "name": "ipython",
    "version": 3
   },
   "file_extension": ".py",
   "mimetype": "text/x-python",
   "name": "python",
   "nbconvert_exporter": "python",
   "pygments_lexer": "ipython3",
   "version": "3.9.12"
  }
 },
 "nbformat": 4,
 "nbformat_minor": 4
}
