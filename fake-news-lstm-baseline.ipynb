{
 "cells": [
  {
   "cell_type": "code",
   "execution_count": 1,
   "id": "cf108ed4",
   "metadata": {
    "_cell_guid": "b1076dfc-b9ad-4769-8c92-a6c4dae69d19",
    "_kg_hide-input": true,
    "_uuid": "8f2839f25d086af736a60e9eeb907d3b93b6e0e5",
    "execution": {
     "iopub.execute_input": "2022-08-24T14:46:58.749454Z",
     "iopub.status.busy": "2022-08-24T14:46:58.742316Z",
     "iopub.status.idle": "2022-08-24T14:46:58.795346Z",
     "shell.execute_reply": "2022-08-24T14:46:58.793923Z"
    },
    "papermill": {
     "duration": 0.081108,
     "end_time": "2022-08-24T14:46:58.799169",
     "exception": false,
     "start_time": "2022-08-24T14:46:58.718061",
     "status": "completed"
    },
    "tags": []
   },
   "outputs": [
    {
     "name": "stdout",
     "output_type": "stream",
     "text": [
      "/kaggle/input/fake-news-classification/WELFake_Dataset.csv\n"
     ]
    }
   ],
   "source": [
    "# This Python 3 environment comes with many helpful analytics libraries installed\n",
    "# It is defined by the kaggle/python Docker image: https://github.com/kaggle/docker-python\n",
    "# For example, here's several helpful packages to load\n",
    "\n",
    "import numpy as np # linear algebra\n",
    "import pandas as pd # data processing, CSV file I/O (e.g. pd.read_csv)\n",
    "\n",
    "# Input data files are available in the read-only \"../input/\" directory\n",
    "# For example, running this (by clicking run or pressing Shift+Enter) will list all files under the input directory\n",
    "\n",
    "import os\n",
    "for dirname, _, filenames in os.walk('/kaggle/input'):\n",
    "    for filename in filenames:\n",
    "        print(os.path.join(dirname, filename))\n",
    "\n",
    "# You can write up to 20GB to the current directory (/kaggle/working/) that gets preserved as output when you create a version using \"Save & Run All\" \n",
    "# You can also write temporary files to /kaggle/temp/, but they won't be saved outside of the current session"
   ]
  },
  {
   "cell_type": "markdown",
   "id": "f2940df0",
   "metadata": {
    "papermill": {
     "duration": 0.027858,
     "end_time": "2022-08-24T14:46:58.849493",
     "exception": false,
     "start_time": "2022-08-24T14:46:58.821635",
     "status": "completed"
    },
    "tags": []
   },
   "source": [
    "![](https://images.unsplash.com/photo-1636188540036-1879f679c2b0?ixlib=rb-1.2.1&ixid=MnwxMjA3fDB8MHxwaG90by1wYWdlfHx8fGVufDB8fHx8&auto=format&fit=crop&w=2061&q=80)"
   ]
  },
  {
   "cell_type": "markdown",
   "id": "ef812d0a",
   "metadata": {
    "papermill": {
     "duration": 0.022076,
     "end_time": "2022-08-24T14:46:58.897122",
     "exception": false,
     "start_time": "2022-08-24T14:46:58.875046",
     "status": "completed"
    },
    "tags": []
   },
   "source": [
    "Picture source Unsplash : https://images.unsplash.com/photo-1636188540036-1879f679c2b0?ixlib=rb-1.2.1&ixid=MnwxMjA3fDB8MHxwaG90by1wYWdlfHx8fGVufDB8fHx8&auto=format&fit=crop&w=2061&q=80"
   ]
  },
  {
   "cell_type": "markdown",
   "id": "5b025b7e",
   "metadata": {
    "papermill": {
     "duration": 0.020668,
     "end_time": "2022-08-24T14:46:58.941244",
     "exception": false,
     "start_time": "2022-08-24T14:46:58.920576",
     "status": "completed"
    },
    "tags": []
   },
   "source": [
    "## Summary\n",
    "<font size = 3.5>(WELFake) is a dataset of 72,134 news articles with 35,028 real and 37,106 fake news. For this, authors merged four popular news datasets (i.e. Kaggle, McIntire, Reuters, BuzzFeed Political) to prevent over-fitting of classifiers and to provide more text data for better ML training. </br></br>\n",
    "<font size = 3.5>\n",
    "Dataset contains four columns: Serial number (starting from 0); Title (about the text news heading); Text (about the news content); and Label (0 = fake and 1 = real).</font>"
   ]
  },
  {
   "cell_type": "markdown",
   "id": "a056422a",
   "metadata": {
    "papermill": {
     "duration": 0.091612,
     "end_time": "2022-08-24T14:46:59.082404",
     "exception": false,
     "start_time": "2022-08-24T14:46:58.990792",
     "status": "completed"
    },
    "tags": []
   },
   "source": [
    "<font size = 3.5>[1. EDA](#eda) <br>\n",
    "\n",
    "<font size = 3.5>[2. Prepare Input](#prepare_input)<br>\n",
    "- [2.1 Tokenization](#tokenization)<br>\n",
    "- [2.2 Pad sequences to fixed lenght](#sequences)<br>\n",
    "\n",
    "<font size = 3.5>[3. Train and Evaluate](#train_evaluate)<br>\n",
    "- [3.1 Define the Model](#define_model)<br>\n",
    "- [3.2 Train the Model](#train_model)<br>\n",
    "- [3.3 Evaluate the Model](#evaluate_model)<br>\n",
    "    \n",
    "<font size = 3.5>[4. Conclusion](#conclusion)<br>"
   ]
  },
  {
   "cell_type": "code",
   "execution_count": 2,
   "id": "1e7c0a83",
   "metadata": {
    "_kg_hide-input": true,
    "execution": {
     "iopub.execute_input": "2022-08-24T14:46:59.130773Z",
     "iopub.status.busy": "2022-08-24T14:46:59.130205Z",
     "iopub.status.idle": "2022-08-24T14:47:06.668053Z",
     "shell.execute_reply": "2022-08-24T14:47:06.666797Z"
    },
    "papermill": {
     "duration": 7.554454,
     "end_time": "2022-08-24T14:47:06.671119",
     "exception": false,
     "start_time": "2022-08-24T14:46:59.116665",
     "status": "completed"
    },
    "tags": []
   },
   "outputs": [],
   "source": [
    "import pandas as pd\n",
    "import numpy as np\n",
    "import matplotlib as plt\n",
    "import seaborn as sns\n",
    "\n",
    "import tensorflow as tf\n",
    "\n",
    "import keras\n",
    "\n",
    "from keras.preprocessing.text import Tokenizer\n",
    "from keras.preprocessing.sequence import pad_sequences\n",
    "from keras.models import Model, Sequential\n",
    "from keras.layers import GRU, Input, Dense, Activation, RepeatVector, Bidirectional, LSTM, Dropout, Embedding\n",
    "from keras.layers.embeddings import Embedding\n",
    "from sklearn.model_selection import train_test_split \n",
    "from keras.losses import sparse_categorical_crossentropy\n",
    "from keras.preprocessing.text import Tokenizer\n",
    "from keras.preprocessing import sequence\n",
    "from keras.callbacks import EarlyStopping\n",
    "\n",
    "from sklearn.model_selection import train_test_split\n",
    "from sklearn.metrics import confusion_matrix, classification_report\n",
    "import collections\n",
    "\n",
    "from tensorflow.python.client import device_lib\n",
    "import matplotlib.pyplot as plt\n",
    "import seaborn as sns\n",
    "\n",
    "\n",
    "tf.compat.v1.logging.set_verbosity(tf.compat.v1.logging.ERROR)\n",
    "SEED = 10"
   ]
  },
  {
   "cell_type": "code",
   "execution_count": 3,
   "id": "5f874500",
   "metadata": {
    "_kg_hide-input": true,
    "execution": {
     "iopub.execute_input": "2022-08-24T14:47:06.686603Z",
     "iopub.status.busy": "2022-08-24T14:47:06.686081Z",
     "iopub.status.idle": "2022-08-24T14:47:13.051957Z",
     "shell.execute_reply": "2022-08-24T14:47:13.050590Z"
    },
    "papermill": {
     "duration": 6.376963,
     "end_time": "2022-08-24T14:47:13.055096",
     "exception": false,
     "start_time": "2022-08-24T14:47:06.678133",
     "status": "completed"
    },
    "tags": []
   },
   "outputs": [],
   "source": [
    "df = pd.read_csv('../input/fake-news-classification/WELFake_Dataset.csv')\n",
    "df.dropna(subset = ['text', 'title'], inplace = True)\n",
    "df['text'] = df['title'] + ' ' + df['text']\n",
    "\n",
    "X = df['text']\n",
    "y = df['label']"
   ]
  },
  {
   "cell_type": "markdown",
   "id": "7b7569bd",
   "metadata": {
    "papermill": {
     "duration": 0.006527,
     "end_time": "2022-08-24T14:47:13.068683",
     "exception": false,
     "start_time": "2022-08-24T14:47:13.062156",
     "status": "completed"
    },
    "tags": []
   },
   "source": [
    "<a id = 'eda'></a>\n",
    "## 1. EDA"
   ]
  },
  {
   "cell_type": "code",
   "execution_count": 4,
   "id": "74e8d8bd",
   "metadata": {
    "execution": {
     "iopub.execute_input": "2022-08-24T14:47:13.084476Z",
     "iopub.status.busy": "2022-08-24T14:47:13.083962Z",
     "iopub.status.idle": "2022-08-24T14:47:15.589076Z",
     "shell.execute_reply": "2022-08-24T14:47:15.587853Z"
    },
    "papermill": {
     "duration": 2.515884,
     "end_time": "2022-08-24T14:47:15.592203",
     "exception": false,
     "start_time": "2022-08-24T14:47:13.076319",
     "status": "completed"
    },
    "tags": []
   },
   "outputs": [],
   "source": [
    "df['num_words'] = df['text'].apply(lambda x: len(x.split()))"
   ]
  },
  {
   "cell_type": "code",
   "execution_count": 5,
   "id": "64e5d2a0",
   "metadata": {
    "execution": {
     "iopub.execute_input": "2022-08-24T14:47:15.611498Z",
     "iopub.status.busy": "2022-08-24T14:47:15.609194Z",
     "iopub.status.idle": "2022-08-24T14:47:15.872947Z",
     "shell.execute_reply": "2022-08-24T14:47:15.871190Z"
    },
    "papermill": {
     "duration": 0.275981,
     "end_time": "2022-08-24T14:47:15.876158",
     "exception": false,
     "start_time": "2022-08-24T14:47:15.600177",
     "status": "completed"
    },
    "tags": []
   },
   "outputs": [
    {
     "data": {
      "text/plain": [
       "Text(0.5, 1.0, 'Distribution of Fake - 0 /Real - 1 News')"
      ]
     },
     "execution_count": 5,
     "metadata": {},
     "output_type": "execute_result"
    },
    {
     "data": {
      "image/png": "[encoded data removed]",
      "text/plain": [
       "<Figure size 720x432 with 1 Axes>"
      ]
     },
     "metadata": {
      "needs_background": "light"
     },
     "output_type": "display_data"
    }
   ],
   "source": [
    "plt.figure(figsize = (10,6))\n",
    "sns.countplot(x = df['label'], palette = 'Set1', alpha = 0.8)\n",
    "plt.title('Distribution of Fake - 0 /Real - 1 News')"
   ]
  },
  {
   "cell_type": "code",
   "execution_count": 6,
   "id": "f96af626",
   "metadata": {
    "execution": {
     "iopub.execute_input": "2022-08-24T14:47:15.893513Z",
     "iopub.status.busy": "2022-08-24T14:47:15.893204Z",
     "iopub.status.idle": "2022-08-24T14:47:16.342598Z",
     "shell.execute_reply": "2022-08-24T14:47:16.341059Z"
    },
    "papermill": {
     "duration": 0.461156,
     "end_time": "2022-08-24T14:47:16.345556",
     "exception": false,
     "start_time": "2022-08-24T14:47:15.884400",
     "status": "completed"
    },
    "tags": []
   },
   "outputs": [
    {
     "data": {
      "text/plain": [
       "Text(0.5, 1.0, 'Distribution of the News Words count')"
      ]
     },
     "execution_count": 6,
     "metadata": {},
     "output_type": "execute_result"
    },
    {
     "data": {
      "image/png": "[encoded data removed]",
      "text/plain": [
       "<Figure size 1440x432 with 1 Axes>"
      ]
     },
     "metadata": {
      "needs_background": "light"
     },
     "output_type": "display_data"
    }
   ],
   "source": [
    "plt.figure(figsize = (20,6))\n",
    "sns.histplot(df['num_words'], bins = range(1, 3000, 50), palette = 'Set1', alpha = 0.8)\n",
    "plt.title('Distribution of the News Words count')"
   ]
  },
  {
   "cell_type": "code",
   "execution_count": 7,
   "id": "a3bb7082",
   "metadata": {
    "_kg_hide-input": true,
    "execution": {
     "iopub.execute_input": "2022-08-24T14:47:16.365156Z",
     "iopub.status.busy": "2022-08-24T14:47:16.362893Z",
     "iopub.status.idle": "2022-08-24T14:47:16.369529Z",
     "shell.execute_reply": "2022-08-24T14:47:16.368300Z"
    },
    "papermill": {
     "duration": 0.018461,
     "end_time": "2022-08-24T14:47:16.372190",
     "exception": false,
     "start_time": "2022-08-24T14:47:16.353729",
     "status": "completed"
    },
    "tags": []
   },
   "outputs": [],
   "source": [
    "#get word collections for real/fake news\n",
    "#fake_news_words = collections.Counter([word for sentence in df.loc[df['label'] == 0]['text'] for word in sentence.split()])\n",
    "#real_news_words = collections.Counter([word for sentence in df.loc[df['label'] == 1]['text'] for word in sentence.split()])\n",
    "# df_mc_fake = pd.DataFrame(columns = ['word','count'], data=(fake_news_words.most_common(20)))\n",
    "# df_mc_real = pd.DataFrame(columns = ['word','count'], data=(fake_news_words.most_common(20)))\n",
    "\n",
    "# fig, axes = plt.subplots(1,2,figsize = (15, 6))\n",
    "\n",
    "# sns.barplot(data = df_mc_fake, x= 'word', y = 'count', color = '#dd0000', alpha = 0.8, ax = axes[0])\n",
    "# #axes[0].tickparams(axis = 'x', rotation = 90)\n",
    "# sns.barplot(data = df_mc_real, x= 'word', y = 'count', color = '#0000dd', alpha = 0.8, ax = axes[1])"
   ]
  },
  {
   "cell_type": "markdown",
   "id": "5ca4164a",
   "metadata": {
    "papermill": {
     "duration": 0.00777,
     "end_time": "2022-08-24T14:47:16.387599",
     "exception": false,
     "start_time": "2022-08-24T14:47:16.379829",
     "status": "completed"
    },
    "tags": []
   },
   "source": [
    "<a id = 'prepare_input'></a>\n",
    "## 2. Preparing the input"
   ]
  },
  {
   "cell_type": "code",
   "execution_count": 8,
   "id": "e0edf618",
   "metadata": {
    "execution": {
     "iopub.execute_input": "2022-08-24T14:47:16.404756Z",
     "iopub.status.busy": "2022-08-24T14:47:16.403567Z",
     "iopub.status.idle": "2022-08-24T14:47:16.445084Z",
     "shell.execute_reply": "2022-08-24T14:47:16.443482Z"
    },
    "papermill": {
     "duration": 0.053003,
     "end_time": "2022-08-24T14:47:16.447861",
     "exception": false,
     "start_time": "2022-08-24T14:47:16.394858",
     "status": "completed"
    },
    "tags": []
   },
   "outputs": [],
   "source": [
    "#split the dataset into training and test sets\n",
    "X_train, X_test, y_train, y_test = train_test_split(X, y, stratify = y, random_state = SEED)"
   ]
  },
  {
   "cell_type": "markdown",
   "id": "aeabbc80",
   "metadata": {
    "papermill": {
     "duration": 0.007195,
     "end_time": "2022-08-24T14:47:16.463128",
     "exception": false,
     "start_time": "2022-08-24T14:47:16.455933",
     "status": "completed"
    },
    "tags": []
   },
   "source": [
    "<a id = 'tokenization'></a>\n",
    "## 2.1 Tokenization "
   ]
  },
  {
   "cell_type": "code",
   "execution_count": 9,
   "id": "3db97394",
   "metadata": {
    "execution": {
     "iopub.execute_input": "2022-08-24T14:47:16.482210Z",
     "iopub.status.busy": "2022-08-24T14:47:16.480386Z",
     "iopub.status.idle": "2022-08-24T14:48:34.386731Z",
     "shell.execute_reply": "2022-08-24T14:48:34.385460Z"
    },
    "papermill": {
     "duration": 77.926739,
     "end_time": "2022-08-24T14:48:34.397549",
     "exception": false,
     "start_time": "2022-08-24T14:47:16.470810",
     "status": "completed"
    },
    "tags": []
   },
   "outputs": [
    {
     "name": "stdout",
     "output_type": "stream",
     "text": [
      "Train vocabulary size: 285418\n"
     ]
    }
   ],
   "source": [
    "#define Keras Tokenizer\n",
    "tok = Tokenizer()\n",
    "tok.fit_on_texts(X_train)\n",
    "\n",
    "#return sequences\n",
    "sequences = tok.texts_to_sequences(X_train)\n",
    "test_sequences = tok.texts_to_sequences(X_test)\n",
    "\n",
    "#print size of the vocabulary\n",
    "print(f'Train vocabulary size: {len(tok.word_index)}')"
   ]
  },
  {
   "cell_type": "markdown",
   "id": "97b06d1b",
   "metadata": {
    "papermill": {
     "duration": 0.007624,
     "end_time": "2022-08-24T14:48:34.414676",
     "exception": false,
     "start_time": "2022-08-24T14:48:34.407052",
     "status": "completed"
    },
    "tags": []
   },
   "source": [
    "<a id = 'sequences'></a>\n",
    "## 2.2 Pad sequences to fixed lenght"
   ]
  },
  {
   "cell_type": "code",
   "execution_count": 10,
   "id": "914df54e",
   "metadata": {
    "execution": {
     "iopub.execute_input": "2022-08-24T14:48:34.431478Z",
     "iopub.status.busy": "2022-08-24T14:48:34.430892Z",
     "iopub.status.idle": "2022-08-24T14:48:35.890350Z",
     "shell.execute_reply": "2022-08-24T14:48:35.889024Z"
    },
    "papermill": {
     "duration": 1.471207,
     "end_time": "2022-08-24T14:48:35.893538",
     "exception": false,
     "start_time": "2022-08-24T14:48:34.422331",
     "status": "completed"
    },
    "tags": []
   },
   "outputs": [],
   "source": [
    "#maximum sequence length (512 to prevent memory issues and speed up computation)\n",
    "MAX_LEN = 512\n",
    "\n",
    "#padded sequences\n",
    "X_train_seq = sequence.pad_sequences(sequences,maxlen=MAX_LEN)\n",
    "X_test_seq = sequence.pad_sequences(test_sequences,maxlen=MAX_LEN)"
   ]
  },
  {
   "cell_type": "code",
   "execution_count": 11,
   "id": "47ac5ef1",
   "metadata": {
    "execution": {
     "iopub.execute_input": "2022-08-24T14:48:35.911452Z",
     "iopub.status.busy": "2022-08-24T14:48:35.911101Z",
     "iopub.status.idle": "2022-08-24T14:48:35.918453Z",
     "shell.execute_reply": "2022-08-24T14:48:35.917245Z"
    },
    "papermill": {
     "duration": 0.019409,
     "end_time": "2022-08-24T14:48:35.921414",
     "exception": false,
     "start_time": "2022-08-24T14:48:35.902005",
     "status": "completed"
    },
    "tags": []
   },
   "outputs": [
    {
     "data": {
      "text/plain": [
       "512"
      ]
     },
     "execution_count": 11,
     "metadata": {},
     "output_type": "execute_result"
    }
   ],
   "source": [
    "X_train_seq.shape[1]"
   ]
  },
  {
   "cell_type": "markdown",
   "id": "7684967a",
   "metadata": {
    "papermill": {
     "duration": 0.007635,
     "end_time": "2022-08-24T14:48:35.936882",
     "exception": false,
     "start_time": "2022-08-24T14:48:35.929247",
     "status": "completed"
    },
    "tags": []
   },
   "source": [
    "<a id = 'train_evaluate'></a>\n",
    "## 3. Train and evaluate the Keras LSTM model"
   ]
  },
  {
   "cell_type": "markdown",
   "id": "80b28fc4",
   "metadata": {
    "papermill": {
     "duration": 0.007506,
     "end_time": "2022-08-24T14:48:35.952098",
     "exception": false,
     "start_time": "2022-08-24T14:48:35.944592",
     "status": "completed"
    },
    "tags": []
   },
   "source": [
    "<a id = 'define_model'></a>\n",
    "## 3.1 Define the model"
   ]
  },
  {
   "cell_type": "code",
   "execution_count": 12,
   "id": "f4c9c12d",
   "metadata": {
    "execution": {
     "iopub.execute_input": "2022-08-24T14:48:36.000474Z",
     "iopub.status.busy": "2022-08-24T14:48:35.999839Z",
     "iopub.status.idle": "2022-08-24T14:48:42.384400Z",
     "shell.execute_reply": "2022-08-24T14:48:42.382685Z"
    },
    "papermill": {
     "duration": 6.410111,
     "end_time": "2022-08-24T14:48:42.387969",
     "exception": false,
     "start_time": "2022-08-24T14:48:35.977858",
     "status": "completed"
    },
    "tags": []
   },
   "outputs": [
    {
     "name": "stderr",
     "output_type": "stream",
     "text": [
      "2022-08-24 14:48:36.764407: I tensorflow/stream_executor/cuda/cuda_gpu_executor.cc:937] successful NUMA node read from SysFS had negative value (-1), but there must be at least one NUMA node, so returning NUMA node zero\n",
      "2022-08-24 14:48:36.904452: I tensorflow/stream_executor/cuda/cuda_gpu_executor.cc:937] successful NUMA node read from SysFS had negative value (-1), but there must be at least one NUMA node, so returning NUMA node zero\n",
      "2022-08-24 14:48:36.908487: I tensorflow/stream_executor/cuda/cuda_gpu_executor.cc:937] successful NUMA node read from SysFS had negative value (-1), but there must be at least one NUMA node, so returning NUMA node zero\n",
      "2022-08-24 14:48:36.914503: I tensorflow/core/platform/cpu_feature_guard.cc:142] This TensorFlow binary is optimized with oneAPI Deep Neural Network Library (oneDNN) to use the following CPU instructions in performance-critical operations:  AVX2 FMA\n",
      "To enable them in other operations, rebuild TensorFlow with the appropriate compiler flags.\n",
      "2022-08-24 14:48:36.915080: I tensorflow/stream_executor/cuda/cuda_gpu_executor.cc:937] successful NUMA node read from SysFS had negative value (-1), but there must be at least one NUMA node, so returning NUMA node zero\n",
      "2022-08-24 14:48:36.919075: I tensorflow/stream_executor/cuda/cuda_gpu_executor.cc:937] successful NUMA node read from SysFS had negative value (-1), but there must be at least one NUMA node, so returning NUMA node zero\n",
      "2022-08-24 14:48:36.923182: I tensorflow/stream_executor/cuda/cuda_gpu_executor.cc:937] successful NUMA node read from SysFS had negative value (-1), but there must be at least one NUMA node, so returning NUMA node zero\n",
      "2022-08-24 14:48:40.094519: I tensorflow/stream_executor/cuda/cuda_gpu_executor.cc:937] successful NUMA node read from SysFS had negative value (-1), but there must be at least one NUMA node, so returning NUMA node zero\n",
      "2022-08-24 14:48:40.098651: I tensorflow/stream_executor/cuda/cuda_gpu_executor.cc:937] successful NUMA node read from SysFS had negative value (-1), but there must be at least one NUMA node, so returning NUMA node zero\n",
      "2022-08-24 14:48:40.102419: I tensorflow/stream_executor/cuda/cuda_gpu_executor.cc:937] successful NUMA node read from SysFS had negative value (-1), but there must be at least one NUMA node, so returning NUMA node zero\n",
      "2022-08-24 14:48:40.106295: I tensorflow/core/common_runtime/gpu/gpu_device.cc:1510] Created device /job:localhost/replica:0/task:0/device:GPU:0 with 15403 MB memory:  -> device: 0, name: Tesla P100-PCIE-16GB, pci bus id: 0000:00:04.0, compute capability: 6.0\n"
     ]
    },
    {
     "name": "stdout",
     "output_type": "stream",
     "text": [
      "Model: \"sequential\"\n",
      "_________________________________________________________________\n",
      "Layer (type)                 Output Shape              Param #   \n",
      "=================================================================\n",
      "embedding (Embedding)        (None, 512, 128)          36533504  \n",
      "_________________________________________________________________\n",
      "bidirectional (Bidirectional (None, 512, 256)          263168    \n",
      "_________________________________________________________________\n",
      "bidirectional_1 (Bidirection (None, 128)               164352    \n",
      "_________________________________________________________________\n",
      "dense (Dense)                (None, 64)                8256      \n",
      "_________________________________________________________________\n",
      "dropout (Dropout)            (None, 64)                0         \n",
      "_________________________________________________________________\n",
      "dense_1 (Dense)              (None, 1)                 65        \n",
      "=================================================================\n",
      "Total params: 36,969,345\n",
      "Trainable params: 36,969,345\n",
      "Non-trainable params: 0\n",
      "_________________________________________________________________\n"
     ]
    }
   ],
   "source": [
    "#define the model\n",
    "model = tf.keras.Sequential([\n",
    "    Input(name='inputs',shape=[MAX_LEN]),\n",
    "    Embedding(len(tok.word_index), 128),\n",
    "    Bidirectional(tf.keras.layers.LSTM(128,  return_sequences=True)),\n",
    "    Bidirectional(tf.keras.layers.LSTM(64)),\n",
    "    Dense(64, activation='relu'),\n",
    "    Dropout(0.5),\n",
    "    Dense(1, activation='sigmoid')\n",
    "])\n",
    "\n",
    "#compile model\n",
    "model.compile(loss=tf.keras.losses.BinaryCrossentropy(),\n",
    "              optimizer=tf.keras.optimizers.Adam(1e-4),\n",
    "              metrics=['accuracy'])\n",
    "\n",
    "#model summary\n",
    "model.summary()"
   ]
  },
  {
   "cell_type": "code",
   "execution_count": 13,
   "id": "0c1d04f1",
   "metadata": {
    "execution": {
     "iopub.execute_input": "2022-08-24T14:48:42.407617Z",
     "iopub.status.busy": "2022-08-24T14:48:42.406541Z",
     "iopub.status.idle": "2022-08-24T14:48:43.735536Z",
     "shell.execute_reply": "2022-08-24T14:48:43.733886Z"
    },
    "papermill": {
     "duration": 1.34098,
     "end_time": "2022-08-24T14:48:43.738541",
     "exception": false,
     "start_time": "2022-08-24T14:48:42.397561",
     "status": "completed"
    },
    "tags": []
   },
   "outputs": [
    {
     "data": {
      "image/png": "[encoded data removed]",
      "text/plain": [
       "<IPython.core.display.Image object>"
      ]
     },
     "execution_count": 13,
     "metadata": {},
     "output_type": "execute_result"
    }
   ],
   "source": [
    "#plot the model architecture\n",
    "tf.keras.utils.plot_model(model)"
   ]
  },
  {
   "cell_type": "markdown",
   "id": "21ed0cd1",
   "metadata": {
    "papermill": {
     "duration": 0.008375,
     "end_time": "2022-08-24T14:48:43.755750",
     "exception": false,
     "start_time": "2022-08-24T14:48:43.747375",
     "status": "completed"
    },
    "tags": []
   },
   "source": [
    "<a id = 'train_model'></a>\n",
    "## 3.2 Training the model"
   ]
  },
  {
   "cell_type": "markdown",
   "id": "0d29aea1",
   "metadata": {
    "papermill": {
     "duration": 0.009159,
     "end_time": "2022-08-24T14:48:43.773518",
     "exception": false,
     "start_time": "2022-08-24T14:48:43.764359",
     "status": "completed"
    },
    "tags": []
   },
   "source": [
    "<i><font size = 3.5>We will use a validation split of 20% during the training</font></i>"
   ]
  },
  {
   "cell_type": "code",
   "execution_count": 14,
   "id": "820e45ab",
   "metadata": {
    "execution": {
     "iopub.execute_input": "2022-08-24T14:48:43.793580Z",
     "iopub.status.busy": "2022-08-24T14:48:43.793163Z",
     "iopub.status.idle": "2022-08-24T15:02:26.928108Z",
     "shell.execute_reply": "2022-08-24T15:02:26.926775Z"
    },
    "papermill": {
     "duration": 823.148539,
     "end_time": "2022-08-24T15:02:26.931430",
     "exception": false,
     "start_time": "2022-08-24T14:48:43.782891",
     "status": "completed"
    },
    "tags": []
   },
   "outputs": [
    {
     "name": "stderr",
     "output_type": "stream",
     "text": [
      "2022-08-24 14:48:43.956899: I tensorflow/compiler/mlir/mlir_graph_optimization_pass.cc:185] None of the MLIR Optimization Passes are enabled (registered 2)\n"
     ]
    },
    {
     "name": "stdout",
     "output_type": "stream",
     "text": [
      "Epoch 1/10\n"
     ]
    },
    {
     "name": "stderr",
     "output_type": "stream",
     "text": [
      "2022-08-24 14:48:51.268124: I tensorflow/stream_executor/cuda/cuda_dnn.cc:369] Loaded cuDNN version 8005\n"
     ]
    },
    {
     "name": "stdout",
     "output_type": "stream",
     "text": [
      "671/671 [==============================] - 112s 153ms/step - loss: 0.2974 - accuracy: 0.8665 - val_loss: 0.1391 - val_accuracy: 0.9502\n",
      "Epoch 2/10\n",
      "671/671 [==============================] - 101s 151ms/step - loss: 0.0862 - accuracy: 0.9729 - val_loss: 0.0955 - val_accuracy: 0.9648\n",
      "Epoch 3/10\n",
      "671/671 [==============================] - 101s 150ms/step - loss: 0.0346 - accuracy: 0.9913 - val_loss: 0.0967 - val_accuracy: 0.9704\n",
      "Epoch 4/10\n",
      "671/671 [==============================] - 101s 150ms/step - loss: 0.0173 - accuracy: 0.9960 - val_loss: 0.1357 - val_accuracy: 0.9665\n",
      "Epoch 5/10\n",
      "671/671 [==============================] - 101s 150ms/step - loss: 0.0132 - accuracy: 0.9965 - val_loss: 0.1288 - val_accuracy: 0.9709\n",
      "Epoch 6/10\n",
      "671/671 [==============================] - 102s 152ms/step - loss: 0.0094 - accuracy: 0.9978 - val_loss: 0.1316 - val_accuracy: 0.9655\n",
      "Epoch 7/10\n",
      "671/671 [==============================] - 102s 151ms/step - loss: 0.0088 - accuracy: 0.9976 - val_loss: 0.1881 - val_accuracy: 0.9652\n",
      "Epoch 8/10\n",
      "671/671 [==============================] - 102s 153ms/step - loss: 0.0049 - accuracy: 0.9988 - val_loss: 0.1425 - val_accuracy: 0.9709\n"
     ]
    }
   ],
   "source": [
    "history = model.fit(X_train_seq, y_train, epochs=10,\n",
    "                    validation_split = 0.2, batch_size = 64, callbacks=[EarlyStopping(monitor='val_accuracy',mode='max', patience=3, verbose=False,restore_best_weights=True)])"
   ]
  },
  {
   "cell_type": "code",
   "execution_count": 15,
   "id": "738f8718",
   "metadata": {
    "execution": {
     "iopub.execute_input": "2022-08-24T15:02:27.613618Z",
     "iopub.status.busy": "2022-08-24T15:02:27.612374Z",
     "iopub.status.idle": "2022-08-24T15:02:28.017994Z",
     "shell.execute_reply": "2022-08-24T15:02:28.016741Z"
    },
    "papermill": {
     "duration": 0.725215,
     "end_time": "2022-08-24T15:02:28.020732",
     "exception": false,
     "start_time": "2022-08-24T15:02:27.295517",
     "status": "completed"
    },
    "tags": []
   },
   "outputs": [
    {
     "data": {
      "image/png": "[encoded data removed]",
      "text/plain": [
       "<Figure size 1152x432 with 2 Axes>"
      ]
     },
     "metadata": {
      "needs_background": "light"
     },
     "output_type": "display_data"
    }
   ],
   "source": [
    "#plot the train/validation loss and accuracy\n",
    "def plot_graphs(history, metric):\n",
    "    \n",
    "    plt.plot(history.history[metric])\n",
    "    plt.plot(history.history['val_'+metric], '')\n",
    "    plt.xlabel(\"Epochs\")\n",
    "    plt.ylabel(metric)\n",
    "    plt.legend([metric, 'val_'+metric])\n",
    "\n",
    "\n",
    "plt.figure(figsize=(16, 6))\n",
    "plt.subplot(1, 2, 1)\n",
    "plot_graphs(history, 'accuracy')\n",
    "plt.subplot(1, 2, 2)\n",
    "plot_graphs(history, 'loss')"
   ]
  },
  {
   "cell_type": "markdown",
   "id": "9015d665",
   "metadata": {
    "papermill": {
     "duration": 0.500483,
     "end_time": "2022-08-24T15:02:28.839290",
     "exception": false,
     "start_time": "2022-08-24T15:02:28.338807",
     "status": "completed"
    },
    "tags": []
   },
   "source": [
    "<a id = 'evaluate_model'></a>\n",
    "## 3.3 Evaluate the model"
   ]
  },
  {
   "cell_type": "markdown",
   "id": "5c8bbb28",
   "metadata": {
    "execution": {
     "iopub.execute_input": "2022-08-24T12:53:15.790214Z",
     "iopub.status.busy": "2022-08-24T12:53:15.789857Z",
     "iopub.status.idle": "2022-08-24T12:53:15.797269Z",
     "shell.execute_reply": "2022-08-24T12:53:15.795904Z",
     "shell.execute_reply.started": "2022-08-24T12:53:15.790182Z"
    },
    "papermill": {
     "duration": 0.558853,
     "end_time": "2022-08-24T15:02:30.007256",
     "exception": false,
     "start_time": "2022-08-24T15:02:29.448403",
     "status": "completed"
    },
    "tags": []
   },
   "source": [
    "<i><font size = 3.5>For final evaluation we use the separate test set</font></i>"
   ]
  },
  {
   "cell_type": "code",
   "execution_count": 16,
   "id": "b8248bf5",
   "metadata": {
    "execution": {
     "iopub.execute_input": "2022-08-24T15:02:30.767724Z",
     "iopub.status.busy": "2022-08-24T15:02:30.766214Z",
     "iopub.status.idle": "2022-08-24T15:03:39.620087Z",
     "shell.execute_reply": "2022-08-24T15:03:39.617602Z"
    },
    "papermill": {
     "duration": 69.571378,
     "end_time": "2022-08-24T15:03:40.015982",
     "exception": false,
     "start_time": "2022-08-24T15:02:30.444604",
     "status": "completed"
    },
    "tags": []
   },
   "outputs": [
    {
     "name": "stdout",
     "output_type": "stream",
     "text": [
      "559/559 [==============================] - 28s 50ms/step - loss: 0.1337 - accuracy: 0.9692\n",
      "Test Loss: 0.13374310731887817\n",
      "Test Accuracy: 0.9691920876502991\n"
     ]
    }
   ],
   "source": [
    "test_loss, test_acc = model.evaluate(X_test_seq, y_test)\n",
    "y_hat = model.predict(X_test_seq)\n",
    "\n",
    "print('Test Loss:', test_loss)\n",
    "print('Test Accuracy:', test_acc)"
   ]
  },
  {
   "cell_type": "code",
   "execution_count": 17,
   "id": "6a708531",
   "metadata": {
    "execution": {
     "iopub.execute_input": "2022-08-24T15:03:40.784308Z",
     "iopub.status.busy": "2022-08-24T15:03:40.783825Z",
     "iopub.status.idle": "2022-08-24T15:03:40.820298Z",
     "shell.execute_reply": "2022-08-24T15:03:40.818691Z"
    },
    "papermill": {
     "duration": 0.436973,
     "end_time": "2022-08-24T15:03:40.822836",
     "exception": false,
     "start_time": "2022-08-24T15:03:40.385863",
     "status": "completed"
    },
    "tags": []
   },
   "outputs": [
    {
     "name": "stdout",
     "output_type": "stream",
     "text": [
      "              precision    recall  f1-score   support\n",
      "\n",
      "           0       0.97      0.96      0.97      8757\n",
      "           1       0.97      0.97      0.97      9128\n",
      "\n",
      "    accuracy                           0.97     17885\n",
      "   macro avg       0.97      0.97      0.97     17885\n",
      "weighted avg       0.97      0.97      0.97     17885\n",
      "\n"
     ]
    }
   ],
   "source": [
    "## print classification report\n",
    "print(classification_report(y_test, np.where(y_hat >= 0.5, 1, 0)))"
   ]
  },
  {
   "cell_type": "code",
   "execution_count": 18,
   "id": "739730ee",
   "metadata": {
    "execution": {
     "iopub.execute_input": "2022-08-24T15:03:41.505708Z",
     "iopub.status.busy": "2022-08-24T15:03:41.504919Z",
     "iopub.status.idle": "2022-08-24T15:03:41.779412Z",
     "shell.execute_reply": "2022-08-24T15:03:41.778036Z"
    },
    "papermill": {
     "duration": 0.61901,
     "end_time": "2022-08-24T15:03:41.782297",
     "exception": false,
     "start_time": "2022-08-24T15:03:41.163287",
     "status": "completed"
    },
    "tags": []
   },
   "outputs": [
    {
     "data": {
      "text/plain": [
       "Text(51.0, 0.5, 'Real Labels')"
      ]
     },
     "execution_count": 18,
     "metadata": {},
     "output_type": "execute_result"
    },
    {
     "data": {
      "image/png": "[encoded data removed]",
      "text/plain": [
       "<Figure size 576x432 with 2 Axes>"
      ]
     },
     "metadata": {
      "needs_background": "light"
     },
     "output_type": "display_data"
    }
   ],
   "source": [
    "#plot the confusion matrix\n",
    "plt.figure(figsize = (8,6))\n",
    "\n",
    "sns.heatmap(confusion_matrix(y_test, np.where(y_hat >= 0.5, 1, 0)), annot=True, \n",
    "            fmt='', cmap='Blues')\n",
    "\n",
    "plt.xlabel('Predicted Labels')\n",
    "plt.ylabel('Real Labels')"
   ]
  },
  {
   "cell_type": "markdown",
   "id": "7556968a",
   "metadata": {
    "papermill": {
     "duration": 0.348576,
     "end_time": "2022-08-24T15:03:42.476961",
     "exception": false,
     "start_time": "2022-08-24T15:03:42.128385",
     "status": "completed"
    },
    "tags": []
   },
   "source": [
    "<a id = 'conclusion'></a>\n",
    "## Conclusion\n",
    "- <font size = 3.5>The model gives pretty good results with accuracy around 97%</font>\n",
    "- <font size = 3.5>To use more efficiently the data we can use StratifiedKFold and run 5 or 10 folds of training/validation</font>\n",
    "- <font size = 3.5>We can test the model performance with longer max sequence length (will increase the memmory usage and computation time)</font>\n",
    "- <font size = 3.5>Try different LSTM unit size/layer number</font>\n",
    "- <font size = 3.5>Try different embedding output</font>"
   ]
  },
  {
   "cell_type": "code",
   "execution_count": null,
   "id": "2c2a711b",
   "metadata": {
    "papermill": {
     "duration": 0.342575,
     "end_time": "2022-08-24T15:03:43.204316",
     "exception": false,
     "start_time": "2022-08-24T15:03:42.861741",
     "status": "completed"
    },
    "tags": []
   },
   "outputs": [],
   "source": []
  }
 ],
 "metadata": {
  "kernelspec": {
   "display_name": "Python 3",
   "language": "python",
   "name": "python3"
  },
  "language_info": {
   "codemirror_mode": {
    "name": "ipython",
    "version": 3
   },
   "file_extension": ".py",
   "mimetype": "text/x-python",
   "name": "python",
   "nbconvert_exporter": "python",
   "pygments_lexer": "ipython3",
   "version": "3.7.12"
  },
  "papermill": {
   "default_parameters": {},
   "duration": 1018.448362,
   "end_time": "2022-08-24T15:03:46.971285",
   "environment_variables": {},
   "exception": null,
   "input_path": "__notebook__.ipynb",
   "output_path": "__notebook__.ipynb",
   "parameters": {},
   "start_time": "2022-08-24T14:46:48.522923",
   "version": "2.3.4"
  }
 },
 "nbformat": 4,
 "nbformat_minor": 5
}
