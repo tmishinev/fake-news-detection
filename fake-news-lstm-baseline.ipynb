{
 "cells": [
  {
   "cell_type": "code",
   "execution_count": 1,
   "id": "aab0129b",
   "metadata": {
    "_cell_guid": "b1076dfc-b9ad-4769-8c92-a6c4dae69d19",
    "_kg_hide-input": true,
    "_uuid": "8f2839f25d086af736a60e9eeb907d3b93b6e0e5",
    "execution": {
     "iopub.execute_input": "2022-08-24T14:07:38.638171Z",
     "iopub.status.busy": "2022-08-24T14:07:38.636644Z",
     "iopub.status.idle": "2022-08-24T14:07:38.659657Z",
     "shell.execute_reply": "2022-08-24T14:07:38.657368Z"
    },
    "papermill": {
     "duration": 0.038704,
     "end_time": "2022-08-24T14:07:38.664061",
     "exception": false,
     "start_time": "2022-08-24T14:07:38.625357",
     "status": "completed"
    },
    "tags": []
   },
   "outputs": [
    {
     "name": "stdout",
     "output_type": "stream",
     "text": [
      "/kaggle/input/fake-news-classification/WELFake_Dataset.csv\n"
     ]
    }
   ],
   "source": [
    "# This Python 3 environment comes with many helpful analytics libraries installed\n",
    "# It is defined by the kaggle/python Docker image: https://github.com/kaggle/docker-python\n",
    "# For example, here's several helpful packages to load\n",
    "\n",
    "import numpy as np # linear algebra\n",
    "import pandas as pd # data processing, CSV file I/O (e.g. pd.read_csv)\n",
    "\n",
    "# Input data files are available in the read-only \"../input/\" directory\n",
    "# For example, running this (by clicking run or pressing Shift+Enter) will list all files under the input directory\n",
    "\n",
    "import os\n",
    "for dirname, _, filenames in os.walk('/kaggle/input'):\n",
    "    for filename in filenames:\n",
    "        print(os.path.join(dirname, filename))\n",
    "\n",
    "# You can write up to 20GB to the current directory (/kaggle/working/) that gets preserved as output when you create a version using \"Save & Run All\" \n",
    "# You can also write temporary files to /kaggle/temp/, but they won't be saved outside of the current session"
   ]
  },
  {
   "cell_type": "markdown",
   "id": "c2a55636",
   "metadata": {
    "papermill": {
     "duration": 0.008134,
     "end_time": "2022-08-24T14:07:38.680056",
     "exception": false,
     "start_time": "2022-08-24T14:07:38.671922",
     "status": "completed"
    },
    "tags": []
   },
   "source": [
    "![](https://images.unsplash.com/photo-1636188540036-1879f679c2b0?ixlib=rb-1.2.1&ixid=MnwxMjA3fDB8MHxwaG90by1wYWdlfHx8fGVufDB8fHx8&auto=format&fit=crop&w=2061&q=80)"
   ]
  },
  {
   "cell_type": "markdown",
   "id": "915bd1ea",
   "metadata": {
    "papermill": {
     "duration": 0.007031,
     "end_time": "2022-08-24T14:07:38.694681",
     "exception": false,
     "start_time": "2022-08-24T14:07:38.687650",
     "status": "completed"
    },
    "tags": []
   },
   "source": [
    "Picture source Unsplash : https://images.unsplash.com/photo-1636188540036-1879f679c2b0?ixlib=rb-1.2.1&ixid=MnwxMjA3fDB8MHxwaG90by1wYWdlfHx8fGVufDB8fHx8&auto=format&fit=crop&w=2061&q=80"
   ]
  },
  {
   "cell_type": "markdown",
   "id": "e1ded3c8",
   "metadata": {
    "papermill": {
     "duration": 0.007614,
     "end_time": "2022-08-24T14:07:38.709825",
     "exception": false,
     "start_time": "2022-08-24T14:07:38.702211",
     "status": "completed"
    },
    "tags": []
   },
   "source": [
    "## Summary\n",
    "<font size = 3.5>(WELFake) is a dataset of 72,134 news articles with 35,028 real and 37,106 fake news. For this, authors merged four popular news datasets (i.e. Kaggle, McIntire, Reuters, BuzzFeed Political) to prevent over-fitting of classifiers and to provide more text data for better ML training. </br></br>\n",
    "<font size = 3.5>\n",
    "Dataset contains four columns: Serial number (starting from 0); Title (about the text news heading); Text (about the news content); and Label (0 = fake and 1 = real).</font>"
   ]
  },
  {
   "cell_type": "markdown",
   "id": "a5f74961",
   "metadata": {
    "papermill": {
     "duration": 0.007098,
     "end_time": "2022-08-24T14:07:38.724577",
     "exception": false,
     "start_time": "2022-08-24T14:07:38.717479",
     "status": "completed"
    },
    "tags": []
   },
   "source": [
    "<font size = 3.5>[1. EDA](#eda) <br>\n",
    "\n",
    "<font size = 3.5>[2. Prepare Input](#prepare_input)<br>\n",
    "- [2.1. Tokenization](#tokenization)<br>\n",
    "- [2.2. Pad sequences to fixed lenght](#sequences)<br>\n",
    "\n",
    "<font size = 3.5>[3. Train and Evaluate](#train_evaluate)<br>\n",
    "- [3.1. Define the Model](#define_model)<br>\n",
    "- [3.2. Train the Model](#train_model)<br>\n",
    "- [3.3. Evaluate the Model](#evaluate_model)<br>\n",
    "    \n",
    "<font size = 3.5>[4. Conclusion](#conclusion)<br>"
   ]
  },
  {
   "cell_type": "code",
   "execution_count": 2,
   "id": "f6ca77a2",
   "metadata": {
    "_kg_hide-input": true,
    "execution": {
     "iopub.execute_input": "2022-08-24T14:07:38.740957Z",
     "iopub.status.busy": "2022-08-24T14:07:38.740538Z",
     "iopub.status.idle": "2022-08-24T14:07:46.336627Z",
     "shell.execute_reply": "2022-08-24T14:07:46.334990Z"
    },
    "papermill": {
     "duration": 7.607821,
     "end_time": "2022-08-24T14:07:46.339806",
     "exception": false,
     "start_time": "2022-08-24T14:07:38.731985",
     "status": "completed"
    },
    "tags": []
   },
   "outputs": [],
   "source": [
    "import pandas as pd\n",
    "import numpy as np\n",
    "import matplotlib as plt\n",
    "import seaborn as sns\n",
    "\n",
    "import tensorflow as tf\n",
    "import keras\n",
    "\n",
    "from keras.preprocessing.text import Tokenizer\n",
    "from keras.preprocessing.sequence import pad_sequences\n",
    "from keras.models import Model, Sequential\n",
    "from keras.layers import GRU, Input, Dense, Activation, RepeatVector, Bidirectional, LSTM, Dropout, Embedding\n",
    "from keras.layers.embeddings import Embedding\n",
    "from sklearn.model_selection import train_test_split \n",
    "from keras.losses import sparse_categorical_crossentropy\n",
    "from keras.preprocessing.text import Tokenizer\n",
    "from keras.preprocessing import sequence\n",
    "from keras.callbacks import EarlyStopping\n",
    "\n",
    "from sklearn.model_selection import train_test_split\n",
    "from sklearn.metrics import confusion_matrix, classification_report\n",
    "import collections\n",
    "\n",
    "from tensorflow.python.client import device_lib\n",
    "import matplotlib.pyplot as plt\n",
    "import seaborn as sns\n",
    "\n",
    "SEED = 10"
   ]
  },
  {
   "cell_type": "code",
   "execution_count": 3,
   "id": "395a33eb",
   "metadata": {
    "_kg_hide-input": true,
    "execution": {
     "iopub.execute_input": "2022-08-24T14:07:46.356724Z",
     "iopub.status.busy": "2022-08-24T14:07:46.356122Z",
     "iopub.status.idle": "2022-08-24T14:07:52.676311Z",
     "shell.execute_reply": "2022-08-24T14:07:52.674808Z"
    },
    "papermill": {
     "duration": 6.331916,
     "end_time": "2022-08-24T14:07:52.679547",
     "exception": false,
     "start_time": "2022-08-24T14:07:46.347631",
     "status": "completed"
    },
    "tags": []
   },
   "outputs": [],
   "source": [
    "df = pd.read_csv('../input/fake-news-classification/WELFake_Dataset.csv')\n",
    "df.dropna(subset = ['text', 'title'], inplace = True)\n",
    "df['text'] = df['title'] + ' ' + df['text']\n",
    "\n",
    "X = df['text']\n",
    "y = df['label']"
   ]
  },
  {
   "cell_type": "markdown",
   "id": "0424941d",
   "metadata": {
    "papermill": {
     "duration": 0.006812,
     "end_time": "2022-08-24T14:07:52.694712",
     "exception": false,
     "start_time": "2022-08-24T14:07:52.687900",
     "status": "completed"
    },
    "tags": []
   },
   "source": [
    "<a id = 'eda'></a>\n",
    "## 1. EDA"
   ]
  },
  {
   "cell_type": "code",
   "execution_count": 4,
   "id": "70fdafe6",
   "metadata": {
    "execution": {
     "iopub.execute_input": "2022-08-24T14:07:52.711722Z",
     "iopub.status.busy": "2022-08-24T14:07:52.709724Z",
     "iopub.status.idle": "2022-08-24T14:07:55.352567Z",
     "shell.execute_reply": "2022-08-24T14:07:55.351206Z"
    },
    "papermill": {
     "duration": 2.654556,
     "end_time": "2022-08-24T14:07:55.356072",
     "exception": false,
     "start_time": "2022-08-24T14:07:52.701516",
     "status": "completed"
    },
    "tags": []
   },
   "outputs": [],
   "source": [
    "df['num_words'] = df['text'].apply(lambda x: len(x.split()))"
   ]
  },
  {
   "cell_type": "code",
   "execution_count": 5,
   "id": "d2d16279",
   "metadata": {
    "execution": {
     "iopub.execute_input": "2022-08-24T14:07:55.373020Z",
     "iopub.status.busy": "2022-08-24T14:07:55.372466Z",
     "iopub.status.idle": "2022-08-24T14:07:55.633942Z",
     "shell.execute_reply": "2022-08-24T14:07:55.632645Z"
    },
    "papermill": {
     "duration": 0.273243,
     "end_time": "2022-08-24T14:07:55.636971",
     "exception": false,
     "start_time": "2022-08-24T14:07:55.363728",
     "status": "completed"
    },
    "tags": []
   },
   "outputs": [
    {
     "data": {
      "text/plain": [
       "Text(0.5, 1.0, 'Distribution of Fake - 0 /Real - 1 News')"
      ]
     },
     "execution_count": 5,
     "metadata": {},
     "output_type": "execute_result"
    },
    {
     "data": {
      "image/png": "[encoded data removed]",
      "text/plain": [
       "<Figure size 720x432 with 1 Axes>"
      ]
     },
     "metadata": {
      "needs_background": "light"
     },
     "output_type": "display_data"
    }
   ],
   "source": [
    "plt.figure(figsize = (10,6))\n",
    "sns.countplot(x = df['label'], palette = 'Set1', alpha = 0.8)\n",
    "plt.title('Distribution of Fake - 0 /Real - 1 News')"
   ]
  },
  {
   "cell_type": "code",
   "execution_count": 6,
   "id": "4b6342b8",
   "metadata": {
    "execution": {
     "iopub.execute_input": "2022-08-24T14:07:55.654781Z",
     "iopub.status.busy": "2022-08-24T14:07:55.653569Z",
     "iopub.status.idle": "2022-08-24T14:07:56.099349Z",
     "shell.execute_reply": "2022-08-24T14:07:56.098068Z"
    },
    "papermill": {
     "duration": 0.457564,
     "end_time": "2022-08-24T14:07:56.102527",
     "exception": false,
     "start_time": "2022-08-24T14:07:55.644963",
     "status": "completed"
    },
    "tags": []
   },
   "outputs": [
    {
     "data": {
      "text/plain": [
       "Text(0.5, 1.0, 'Distribution of the News Words count')"
      ]
     },
     "execution_count": 6,
     "metadata": {},
     "output_type": "execute_result"
    },
    {
     "data": {
      "image/png": "[encoded data removed]",
      "text/plain": [
       "<Figure size 1440x432 with 1 Axes>"
      ]
     },
     "metadata": {
      "needs_background": "light"
     },
     "output_type": "display_data"
    }
   ],
   "source": [
    "plt.figure(figsize = (20,6))\n",
    "sns.histplot(df['num_words'], bins = range(1, 3000, 50), palette = 'Set1', alpha = 0.8)\n",
    "plt.title('Distribution of the News Words count')"
   ]
  },
  {
   "cell_type": "code",
   "execution_count": 7,
   "id": "94ec2788",
   "metadata": {
    "_kg_hide-input": true,
    "execution": {
     "iopub.execute_input": "2022-08-24T14:07:56.120811Z",
     "iopub.status.busy": "2022-08-24T14:07:56.120207Z",
     "iopub.status.idle": "2022-08-24T14:07:56.125998Z",
     "shell.execute_reply": "2022-08-24T14:07:56.124626Z"
    },
    "papermill": {
     "duration": 0.017502,
     "end_time": "2022-08-24T14:07:56.128654",
     "exception": false,
     "start_time": "2022-08-24T14:07:56.111152",
     "status": "completed"
    },
    "tags": []
   },
   "outputs": [],
   "source": [
    "#get word collections for real/fake news\n",
    "#fake_news_words = collections.Counter([word for sentence in df.loc[df['label'] == 0]['text'] for word in sentence.split()])\n",
    "#real_news_words = collections.Counter([word for sentence in df.loc[df['label'] == 1]['text'] for word in sentence.split()])\n",
    "# df_mc_fake = pd.DataFrame(columns = ['word','count'], data=(fake_news_words.most_common(20)))\n",
    "# df_mc_real = pd.DataFrame(columns = ['word','count'], data=(fake_news_words.most_common(20)))\n",
    "\n",
    "# fig, axes = plt.subplots(1,2,figsize = (15, 6))\n",
    "\n",
    "# sns.barplot(data = df_mc_fake, x= 'word', y = 'count', color = '#dd0000', alpha = 0.8, ax = axes[0])\n",
    "# #axes[0].tickparams(axis = 'x', rotation = 90)\n",
    "# sns.barplot(data = df_mc_real, x= 'word', y = 'count', color = '#0000dd', alpha = 0.8, ax = axes[1])"
   ]
  },
  {
   "cell_type": "markdown",
   "id": "61b96bb1",
   "metadata": {
    "papermill": {
     "duration": 0.007966,
     "end_time": "2022-08-24T14:07:56.144185",
     "exception": false,
     "start_time": "2022-08-24T14:07:56.136219",
     "status": "completed"
    },
    "tags": []
   },
   "source": [
    "<a id = 'prepare_input'></a>\n",
    "## 2. Preparing the input"
   ]
  },
  {
   "cell_type": "code",
   "execution_count": 8,
   "id": "a02528be",
   "metadata": {
    "execution": {
     "iopub.execute_input": "2022-08-24T14:07:56.161451Z",
     "iopub.status.busy": "2022-08-24T14:07:56.161116Z",
     "iopub.status.idle": "2022-08-24T14:07:56.204954Z",
     "shell.execute_reply": "2022-08-24T14:07:56.203645Z"
    },
    "papermill": {
     "duration": 0.056142,
     "end_time": "2022-08-24T14:07:56.208152",
     "exception": false,
     "start_time": "2022-08-24T14:07:56.152010",
     "status": "completed"
    },
    "tags": []
   },
   "outputs": [],
   "source": [
    "#split the dataset into training and test sets\n",
    "X_train, X_test, y_train, y_test = train_test_split(X, y, stratify = y, random_state = SEED)"
   ]
  },
  {
   "cell_type": "markdown",
   "id": "65c1ae48",
   "metadata": {
    "papermill": {
     "duration": 0.007798,
     "end_time": "2022-08-24T14:07:56.224324",
     "exception": false,
     "start_time": "2022-08-24T14:07:56.216526",
     "status": "completed"
    },
    "tags": []
   },
   "source": [
    "<a id = 'tokenization'></a>\n",
    "## 2.1 Tokenization "
   ]
  },
  {
   "cell_type": "code",
   "execution_count": 9,
   "id": "f70257d0",
   "metadata": {
    "execution": {
     "iopub.execute_input": "2022-08-24T14:07:56.242244Z",
     "iopub.status.busy": "2022-08-24T14:07:56.241894Z",
     "iopub.status.idle": "2022-08-24T14:09:18.647325Z",
     "shell.execute_reply": "2022-08-24T14:09:18.645798Z"
    },
    "papermill": {
     "duration": 82.427003,
     "end_time": "2022-08-24T14:09:18.659331",
     "exception": false,
     "start_time": "2022-08-24T14:07:56.232328",
     "status": "completed"
    },
    "tags": []
   },
   "outputs": [
    {
     "name": "stdout",
     "output_type": "stream",
     "text": [
      "Train vocabulary size: 285418\n"
     ]
    }
   ],
   "source": [
    "#define Keras Tokenizer\n",
    "tok = Tokenizer()\n",
    "tok.fit_on_texts(X_train)\n",
    "\n",
    "#return sequences\n",
    "sequences = tok.texts_to_sequences(X_train)\n",
    "test_sequences = tok.texts_to_sequences(X_test)\n",
    "\n",
    "#print size of the vocabulary\n",
    "print(f'Train vocabulary size: {len(tok.word_index)}')"
   ]
  },
  {
   "cell_type": "markdown",
   "id": "ddcfb6fd",
   "metadata": {
    "papermill": {
     "duration": 0.008022,
     "end_time": "2022-08-24T14:09:18.675670",
     "exception": false,
     "start_time": "2022-08-24T14:09:18.667648",
     "status": "completed"
    },
    "tags": []
   },
   "source": [
    "<a id = 'sequences'></a>\n",
    "## 2.2 Pad sequences to fixed lenght"
   ]
  },
  {
   "cell_type": "code",
   "execution_count": 10,
   "id": "7b31970f",
   "metadata": {
    "execution": {
     "iopub.execute_input": "2022-08-24T14:09:18.693299Z",
     "iopub.status.busy": "2022-08-24T14:09:18.692961Z",
     "iopub.status.idle": "2022-08-24T14:09:20.212063Z",
     "shell.execute_reply": "2022-08-24T14:09:20.210628Z"
    },
    "papermill": {
     "duration": 1.531573,
     "end_time": "2022-08-24T14:09:20.215388",
     "exception": false,
     "start_time": "2022-08-24T14:09:18.683815",
     "status": "completed"
    },
    "tags": []
   },
   "outputs": [],
   "source": [
    "#maximum sequence length (512 to prevent memory issues and speed up computation)\n",
    "MAX_LEN = 512\n",
    "\n",
    "#padded sequences\n",
    "X_train_seq = sequence.pad_sequences(sequences,maxlen=MAX_LEN)\n",
    "X_test_seq = sequence.pad_sequences(test_sequences,maxlen=MAX_LEN)"
   ]
  },
  {
   "cell_type": "code",
   "execution_count": 11,
   "id": "4fb2a26d",
   "metadata": {
    "execution": {
     "iopub.execute_input": "2022-08-24T14:09:20.233712Z",
     "iopub.status.busy": "2022-08-24T14:09:20.232433Z",
     "iopub.status.idle": "2022-08-24T14:09:20.241724Z",
     "shell.execute_reply": "2022-08-24T14:09:20.240262Z"
    },
    "papermill": {
     "duration": 0.021215,
     "end_time": "2022-08-24T14:09:20.244712",
     "exception": false,
     "start_time": "2022-08-24T14:09:20.223497",
     "status": "completed"
    },
    "tags": []
   },
   "outputs": [
    {
     "data": {
      "text/plain": [
       "512"
      ]
     },
     "execution_count": 11,
     "metadata": {},
     "output_type": "execute_result"
    }
   ],
   "source": [
    "X_train_seq.shape[1]"
   ]
  },
  {
   "cell_type": "markdown",
   "id": "1e505fbe",
   "metadata": {
    "papermill": {
     "duration": 0.00778,
     "end_time": "2022-08-24T14:09:20.260554",
     "exception": false,
     "start_time": "2022-08-24T14:09:20.252774",
     "status": "completed"
    },
    "tags": []
   },
   "source": [
    "<a id = 'train_evaluate'></a>\n",
    "## 3. Train and evaluate the Keras LSTM model"
   ]
  },
  {
   "cell_type": "markdown",
   "id": "32c7e8fb",
   "metadata": {
    "papermill": {
     "duration": 0.007586,
     "end_time": "2022-08-24T14:09:20.276360",
     "exception": false,
     "start_time": "2022-08-24T14:09:20.268774",
     "status": "completed"
    },
    "tags": []
   },
   "source": [
    "<a id = 'define_model'></a>\n",
    "## 3.1 Define the model"
   ]
  },
  {
   "cell_type": "code",
   "execution_count": 12,
   "id": "b61c00a9",
   "metadata": {
    "execution": {
     "iopub.execute_input": "2022-08-24T14:09:20.295098Z",
     "iopub.status.busy": "2022-08-24T14:09:20.293814Z",
     "iopub.status.idle": "2022-08-24T14:09:26.745756Z",
     "shell.execute_reply": "2022-08-24T14:09:26.742230Z"
    },
    "papermill": {
     "duration": 6.46418,
     "end_time": "2022-08-24T14:09:26.748692",
     "exception": false,
     "start_time": "2022-08-24T14:09:20.284512",
     "status": "completed"
    },
    "tags": []
   },
   "outputs": [
    {
     "name": "stderr",
     "output_type": "stream",
     "text": [
      "2022-08-24 14:09:21.069795: I tensorflow/stream_executor/cuda/cuda_gpu_executor.cc:937] successful NUMA node read from SysFS had negative value (-1), but there must be at least one NUMA node, so returning NUMA node zero\n",
      "2022-08-24 14:09:21.272333: I tensorflow/stream_executor/cuda/cuda_gpu_executor.cc:937] successful NUMA node read from SysFS had negative value (-1), but there must be at least one NUMA node, so returning NUMA node zero\n",
      "2022-08-24 14:09:21.276691: I tensorflow/stream_executor/cuda/cuda_gpu_executor.cc:937] successful NUMA node read from SysFS had negative value (-1), but there must be at least one NUMA node, so returning NUMA node zero\n",
      "2022-08-24 14:09:21.282754: I tensorflow/core/platform/cpu_feature_guard.cc:142] This TensorFlow binary is optimized with oneAPI Deep Neural Network Library (oneDNN) to use the following CPU instructions in performance-critical operations:  AVX2 FMA\n",
      "To enable them in other operations, rebuild TensorFlow with the appropriate compiler flags.\n",
      "2022-08-24 14:09:21.283216: I tensorflow/stream_executor/cuda/cuda_gpu_executor.cc:937] successful NUMA node read from SysFS had negative value (-1), but there must be at least one NUMA node, so returning NUMA node zero\n",
      "2022-08-24 14:09:21.287275: I tensorflow/stream_executor/cuda/cuda_gpu_executor.cc:937] successful NUMA node read from SysFS had negative value (-1), but there must be at least one NUMA node, so returning NUMA node zero\n",
      "2022-08-24 14:09:21.291475: I tensorflow/stream_executor/cuda/cuda_gpu_executor.cc:937] successful NUMA node read from SysFS had negative value (-1), but there must be at least one NUMA node, so returning NUMA node zero\n",
      "2022-08-24 14:09:24.354334: I tensorflow/stream_executor/cuda/cuda_gpu_executor.cc:937] successful NUMA node read from SysFS had negative value (-1), but there must be at least one NUMA node, so returning NUMA node zero\n",
      "2022-08-24 14:09:24.358288: I tensorflow/stream_executor/cuda/cuda_gpu_executor.cc:937] successful NUMA node read from SysFS had negative value (-1), but there must be at least one NUMA node, so returning NUMA node zero\n",
      "2022-08-24 14:09:24.362098: I tensorflow/stream_executor/cuda/cuda_gpu_executor.cc:937] successful NUMA node read from SysFS had negative value (-1), but there must be at least one NUMA node, so returning NUMA node zero\n",
      "2022-08-24 14:09:24.365772: I tensorflow/core/common_runtime/gpu/gpu_device.cc:1510] Created device /job:localhost/replica:0/task:0/device:GPU:0 with 15403 MB memory:  -> device: 0, name: Tesla P100-PCIE-16GB, pci bus id: 0000:00:04.0, compute capability: 6.0\n"
     ]
    },
    {
     "name": "stdout",
     "output_type": "stream",
     "text": [
      "Model: \"sequential\"\n",
      "_________________________________________________________________\n",
      "Layer (type)                 Output Shape              Param #   \n",
      "=================================================================\n",
      "embedding (Embedding)        (None, 512, 128)          36533504  \n",
      "_________________________________________________________________\n",
      "bidirectional (Bidirectional (None, 512, 256)          263168    \n",
      "_________________________________________________________________\n",
      "bidirectional_1 (Bidirection (None, 128)               164352    \n",
      "_________________________________________________________________\n",
      "dense (Dense)                (None, 64)                8256      \n",
      "_________________________________________________________________\n",
      "dropout (Dropout)            (None, 64)                0         \n",
      "_________________________________________________________________\n",
      "dense_1 (Dense)              (None, 1)                 65        \n",
      "=================================================================\n",
      "Total params: 36,969,345\n",
      "Trainable params: 36,969,345\n",
      "Non-trainable params: 0\n",
      "_________________________________________________________________\n"
     ]
    }
   ],
   "source": [
    "#define the model\n",
    "model = tf.keras.Sequential([\n",
    "    Input(name='inputs',shape=[MAX_LEN]),\n",
    "    Embedding(len(tok.word_index), 128),\n",
    "    Bidirectional(tf.keras.layers.LSTM(128,  return_sequences=True)),\n",
    "    Bidirectional(tf.keras.layers.LSTM(64)),\n",
    "    Dense(64, activation='relu'),\n",
    "    Dropout(0.5),\n",
    "    Dense(1, activation='sigmoid')\n",
    "])\n",
    "\n",
    "#compile model\n",
    "model.compile(loss=tf.keras.losses.BinaryCrossentropy(),\n",
    "              optimizer=tf.keras.optimizers.Adam(1e-4),\n",
    "              metrics=['accuracy'])\n",
    "\n",
    "#model summary\n",
    "model.summary()"
   ]
  },
  {
   "cell_type": "code",
   "execution_count": 13,
   "id": "8563f45b",
   "metadata": {
    "execution": {
     "iopub.execute_input": "2022-08-24T14:09:26.768333Z",
     "iopub.status.busy": "2022-08-24T14:09:26.767979Z",
     "iopub.status.idle": "2022-08-24T14:09:28.317319Z",
     "shell.execute_reply": "2022-08-24T14:09:28.315456Z"
    },
    "papermill": {
     "duration": 1.562468,
     "end_time": "2022-08-24T14:09:28.320565",
     "exception": false,
     "start_time": "2022-08-24T14:09:26.758097",
     "status": "completed"
    },
    "tags": []
   },
   "outputs": [
    {
     "data": {
      "image/png": "[encoded data removed]",
      "text/plain": [
       "<IPython.core.display.Image object>"
      ]
     },
     "execution_count": 13,
     "metadata": {},
     "output_type": "execute_result"
    }
   ],
   "source": [
    "#plot the model architecture\n",
    "tf.keras.utils.plot_model(model)"
   ]
  },
  {
   "cell_type": "markdown",
   "id": "3707fcd5",
   "metadata": {
    "papermill": {
     "duration": 0.008774,
     "end_time": "2022-08-24T14:09:28.339316",
     "exception": false,
     "start_time": "2022-08-24T14:09:28.330542",
     "status": "completed"
    },
    "tags": []
   },
   "source": [
    "<a id = 'train_model'></a>\n",
    "## 3.2 Training the model"
   ]
  },
  {
   "cell_type": "markdown",
   "id": "fae680a2",
   "metadata": {
    "papermill": {
     "duration": 0.008636,
     "end_time": "2022-08-24T14:09:28.357308",
     "exception": false,
     "start_time": "2022-08-24T14:09:28.348672",
     "status": "completed"
    },
    "tags": []
   },
   "source": [
    "<i><font size = 3.5>We will use a validation split of 20% during the training</font></i>"
   ]
  },
  {
   "cell_type": "code",
   "execution_count": 14,
   "id": "861fdaa4",
   "metadata": {
    "execution": {
     "iopub.execute_input": "2022-08-24T14:09:28.377174Z",
     "iopub.status.busy": "2022-08-24T14:09:28.376763Z",
     "iopub.status.idle": "2022-08-24T14:19:34.625434Z",
     "shell.execute_reply": "2022-08-24T14:19:34.623655Z"
    },
    "papermill": {
     "duration": 606.438425,
     "end_time": "2022-08-24T14:19:34.804666",
     "exception": false,
     "start_time": "2022-08-24T14:09:28.366241",
     "status": "completed"
    },
    "tags": []
   },
   "outputs": [
    {
     "name": "stderr",
     "output_type": "stream",
     "text": [
      "2022-08-24 14:09:28.540779: I tensorflow/compiler/mlir/mlir_graph_optimization_pass.cc:185] None of the MLIR Optimization Passes are enabled (registered 2)\n"
     ]
    },
    {
     "name": "stdout",
     "output_type": "stream",
     "text": [
      "Epoch 1/10\n"
     ]
    },
    {
     "name": "stderr",
     "output_type": "stream",
     "text": [
      "2022-08-24 14:09:35.661567: I tensorflow/stream_executor/cuda/cuda_dnn.cc:369] Loaded cuDNN version 8005\n"
     ]
    },
    {
     "name": "stdout",
     "output_type": "stream",
     "text": [
      "671/671 [==============================] - 110s 150ms/step - loss: 0.2582 - accuracy: 0.8874 - val_loss: 0.1064 - val_accuracy: 0.9634\n",
      "Epoch 2/10\n",
      "671/671 [==============================] - 99s 148ms/step - loss: 0.0613 - accuracy: 0.9821 - val_loss: 0.0844 - val_accuracy: 0.9716\n",
      "Epoch 3/10\n",
      "671/671 [==============================] - 99s 147ms/step - loss: 0.0264 - accuracy: 0.9927 - val_loss: 0.0956 - val_accuracy: 0.9721\n",
      "Epoch 4/10\n",
      "671/671 [==============================] - 99s 148ms/step - loss: 0.0134 - accuracy: 0.9965 - val_loss: 0.1773 - val_accuracy: 0.9648\n",
      "Epoch 5/10\n",
      "671/671 [==============================] - 99s 148ms/step - loss: 0.0083 - accuracy: 0.9977 - val_loss: 0.1171 - val_accuracy: 0.9695\n",
      "Epoch 6/10\n",
      "671/671 [==============================] - 99s 147ms/step - loss: 0.0059 - accuracy: 0.9984 - val_loss: 0.1348 - val_accuracy: 0.9712\n"
     ]
    }
   ],
   "source": [
    "history = model.fit(X_train_seq, y_train, epochs=10,\n",
    "                    validation_split = 0.2, batch_size = 64, callbacks=[EarlyStopping(monitor='val_accuracy',mode='max', patience=3, verbose=False,restore_best_weights=True)])"
   ]
  },
  {
   "cell_type": "code",
   "execution_count": 15,
   "id": "34cd891a",
   "metadata": {
    "execution": {
     "iopub.execute_input": "2022-08-24T14:19:35.368243Z",
     "iopub.status.busy": "2022-08-24T14:19:35.367782Z",
     "iopub.status.idle": "2022-08-24T14:19:56.702918Z",
     "shell.execute_reply": "2022-08-24T14:19:56.701607Z"
    },
    "papermill": {
     "duration": 21.609975,
     "end_time": "2022-08-24T14:19:56.705452",
     "exception": false,
     "start_time": "2022-08-24T14:19:35.095477",
     "status": "completed"
    },
    "tags": []
   },
   "outputs": [
    {
     "data": {
      "image/png": "[encoded data removed]",
      "text/plain": [
       "<Figure size 1152x432 with 2 Axes>"
      ]
     },
     "metadata": {
      "needs_background": "light"
     },
     "output_type": "display_data"
    }
   ],
   "source": [
    "#plot the train/validation loss and accuracy\n",
    "def plot_graphs(history, metric):\n",
    "    \n",
    "    plt.plot(history.history[metric])\n",
    "    plt.plot(history.history['val_'+metric], '')\n",
    "    plt.xlabel(\"Epochs\")\n",
    "    plt.ylabel(metric)\n",
    "    plt.legend([metric, 'val_'+metric])\n",
    "\n",
    "\n",
    "plt.figure(figsize=(16, 6))\n",
    "plt.subplot(1, 2, 1)\n",
    "plot_graphs(history, 'accuracy')\n",
    "plt.subplot(1, 2, 2)\n",
    "plot_graphs(history, 'loss')"
   ]
  },
  {
   "cell_type": "markdown",
   "id": "d26e0fb5",
   "metadata": {
    "papermill": {
     "duration": 0.25167,
     "end_time": "2022-08-24T14:19:57.208170",
     "exception": false,
     "start_time": "2022-08-24T14:19:56.956500",
     "status": "completed"
    },
    "tags": []
   },
   "source": [
    "<a id = 'evaluate_model'></a>\n",
    "## 3.3 Evaluate the model"
   ]
  },
  {
   "cell_type": "markdown",
   "id": "f507dd0c",
   "metadata": {
    "execution": {
     "iopub.execute_input": "2022-08-24T12:53:15.790214Z",
     "iopub.status.busy": "2022-08-24T12:53:15.789857Z",
     "iopub.status.idle": "2022-08-24T12:53:15.797269Z",
     "shell.execute_reply": "2022-08-24T12:53:15.795904Z",
     "shell.execute_reply.started": "2022-08-24T12:53:15.790182Z"
    },
    "papermill": {
     "duration": 0.253777,
     "end_time": "2022-08-24T14:19:57.718124",
     "exception": false,
     "start_time": "2022-08-24T14:19:57.464347",
     "status": "completed"
    },
    "tags": []
   },
   "source": [
    "<i><font size = 3.5>For final evaluation we use the separate test set</font></i>"
   ]
  },
  {
   "cell_type": "code",
   "execution_count": 16,
   "id": "9ed30074",
   "metadata": {
    "execution": {
     "iopub.execute_input": "2022-08-24T14:19:58.269357Z",
     "iopub.status.busy": "2022-08-24T14:19:58.268956Z",
     "iopub.status.idle": "2022-08-24T14:20:50.970779Z",
     "shell.execute_reply": "2022-08-24T14:20:50.969271Z"
    },
    "papermill": {
     "duration": 53.272686,
     "end_time": "2022-08-24T14:20:51.244436",
     "exception": false,
     "start_time": "2022-08-24T14:19:57.971750",
     "status": "completed"
    },
    "tags": []
   },
   "outputs": [
    {
     "name": "stdout",
     "output_type": "stream",
     "text": [
      "559/559 [==============================] - 26s 47ms/step - loss: 0.0926 - accuracy: 0.9748\n",
      "Test Loss: 0.09259027242660522\n",
      "Test Accuracy: 0.9748392701148987\n"
     ]
    }
   ],
   "source": [
    "test_loss, test_acc = model.evaluate(X_test_seq, y_test)\n",
    "y_hat = model.predict(X_test_seq)\n",
    "\n",
    "print('Test Loss:', test_loss)\n",
    "print('Test Accuracy:', test_acc)"
   ]
  },
  {
   "cell_type": "code",
   "execution_count": 17,
   "id": "0647cbc3",
   "metadata": {
    "execution": {
     "iopub.execute_input": "2022-08-24T14:20:51.791598Z",
     "iopub.status.busy": "2022-08-24T14:20:51.791129Z",
     "iopub.status.idle": "2022-08-24T14:20:51.829064Z",
     "shell.execute_reply": "2022-08-24T14:20:51.826940Z"
    },
    "papermill": {
     "duration": 0.319831,
     "end_time": "2022-08-24T14:20:51.831610",
     "exception": false,
     "start_time": "2022-08-24T14:20:51.511779",
     "status": "completed"
    },
    "tags": []
   },
   "outputs": [
    {
     "name": "stdout",
     "output_type": "stream",
     "text": [
      "              precision    recall  f1-score   support\n",
      "\n",
      "           0       0.97      0.98      0.97      8757\n",
      "           1       0.98      0.97      0.98      9128\n",
      "\n",
      "    accuracy                           0.97     17885\n",
      "   macro avg       0.97      0.97      0.97     17885\n",
      "weighted avg       0.97      0.97      0.97     17885\n",
      "\n"
     ]
    }
   ],
   "source": [
    "## print classification report\n",
    "print(classification_report(y_test, np.where(y_hat >= 0.5, 1, 0)))"
   ]
  },
  {
   "cell_type": "code",
   "execution_count": 18,
   "id": "4cef81a6",
   "metadata": {
    "execution": {
     "iopub.execute_input": "2022-08-24T14:20:52.400824Z",
     "iopub.status.busy": "2022-08-24T14:20:52.400259Z",
     "iopub.status.idle": "2022-08-24T14:20:52.695004Z",
     "shell.execute_reply": "2022-08-24T14:20:52.693517Z"
    },
    "papermill": {
     "duration": 0.604066,
     "end_time": "2022-08-24T14:20:52.697917",
     "exception": false,
     "start_time": "2022-08-24T14:20:52.093851",
     "status": "completed"
    },
    "tags": []
   },
   "outputs": [
    {
     "data": {
      "text/plain": [
       "Text(51.0, 0.5, 'Real Labels')"
      ]
     },
     "execution_count": 18,
     "metadata": {},
     "output_type": "execute_result"
    },
    {
     "data": {
      "image/png": "[encoded data removed]",
      "text/plain": [
       "<Figure size 576x432 with 2 Axes>"
      ]
     },
     "metadata": {
      "needs_background": "light"
     },
     "output_type": "display_data"
    }
   ],
   "source": [
    "#plot the confusion matrix\n",
    "plt.figure(figsize = (8,6))\n",
    "\n",
    "sns.heatmap(confusion_matrix(y_test, np.where(y_hat >= 0.5, 1, 0)), annot=True, \n",
    "            fmt='', cmap='Blues')\n",
    "\n",
    "plt.xlabel('Predicted Labels')\n",
    "plt.ylabel('Real Labels')"
   ]
  },
  {
   "cell_type": "markdown",
   "id": "4427930e",
   "metadata": {
    "papermill": {
     "duration": 0.265055,
     "end_time": "2022-08-24T14:20:53.231965",
     "exception": false,
     "start_time": "2022-08-24T14:20:52.966910",
     "status": "completed"
    },
    "tags": []
   },
   "source": [
    "<a id = 'conclusion'></a>\n",
    "## Conclusion\n",
    "- <font size = 3.5>The model gives pretty good results with accuracy around 97%</font>\n",
    "- <font size = 3.5>To use more efficiently the data we can use StratifiedKFold and run 5 or 10 folds of training/validation</font>\n",
    "- <font size = 3.5>Try different LSTM unit size/layer number</font>\n",
    "- <font size = 3.5>Try different embedding output</font>"
   ]
  },
  {
   "cell_type": "code",
   "execution_count": null,
   "id": "4609b48e",
   "metadata": {
    "papermill": {
     "duration": 0.277609,
     "end_time": "2022-08-24T14:20:53.776933",
     "exception": false,
     "start_time": "2022-08-24T14:20:53.499324",
     "status": "completed"
    },
    "tags": []
   },
   "outputs": [],
   "source": []
  }
 ],
 "metadata": {
  "kernelspec": {
   "display_name": "Python 3",
   "language": "python",
   "name": "python3"
  },
  "language_info": {
   "codemirror_mode": {
    "name": "ipython",
    "version": 3
   },
   "file_extension": ".py",
   "mimetype": "text/x-python",
   "name": "python",
   "nbconvert_exporter": "python",
   "pygments_lexer": "ipython3",
   "version": "3.7.12"
  },
  "papermill": {
   "default_parameters": {},
   "duration": 809.264693,
   "end_time": "2022-08-24T14:20:57.435805",
   "environment_variables": {},
   "exception": null,
   "input_path": "__notebook__.ipynb",
   "output_path": "__notebook__.ipynb",
   "parameters": {},
   "start_time": "2022-08-24T14:07:28.171112",
   "version": "2.3.4"
  }
 },
 "nbformat": 4,
 "nbformat_minor": 5
}
